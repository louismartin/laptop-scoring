{
 "cells": [
  {
   "cell_type": "code",
   "execution_count": null,
   "metadata": {
    "collapsed": false
   },
   "outputs": [],
   "source": [
    "from urllib.request import urlopen\n",
    "import time\n",
    "\n",
    "from tqdm import tqdm\n",
    "from bs4 import BeautifulSoup\n",
    "import pandas as pd"
   ]
  },
  {
   "cell_type": "code",
   "execution_count": null,
   "metadata": {
    "collapsed": false
   },
   "outputs": [],
   "source": [
    "def get_specs(url):\n",
    "    \"\"\"Return specs as a dictionary\"\"\"\n",
    "    html_doc = urlopen(url).read()\n",
    "    soup = BeautifulSoup(html_doc,\"html.parser\")\n",
    "    soup = soup.find(\"div\", {\"id\": \"specs\"})\n",
    "    specs = {}\n",
    "    for spec in soup.find_all(\"tr\"):\n",
    "        key = spec.find(\"th\", {\"scope\": \"row\"})\n",
    "        if key:\n",
    "            key = key.text\n",
    "            value = spec.find(\"td\").text.replace('\\n', '')\n",
    "            specs[key] = value\n",
    "    return specs"
   ]
  },
  {
   "cell_type": "code",
   "execution_count": null,
   "metadata": {
    "collapsed": false
   },
   "outputs": [],
   "source": [
    "url = \"http://www.comparez-malin.fr/informatique/pc-portable/asus-zenbook-ux305ca-fc057t.html\"\n",
    "n = 5\n",
    "df = pd.DataFrame(index=range(n))\n",
    "tic = time.time()\n",
    "for i in tqdm(range(n)):\n",
    "    specs = get_specs(url)\n",
    "    df = df.append(specs, ignore_index=True)\n",
    "print(\"Elpased time: {0:.2f}\".format(time.time()-tic))"
   ]
  }
 ],
 "metadata": {
  "kernelspec": {
   "display_name": "Python 3",
   "language": "python",
   "name": "python3"
  },
  "language_info": {
   "codemirror_mode": {
    "name": "ipython",
    "version": 3
   },
   "file_extension": ".py",
   "mimetype": "text/x-python",
   "name": "python",
   "nbconvert_exporter": "python",
   "pygments_lexer": "ipython3",
   "version": "3.5.2"
  }
 },
 "nbformat": 4,
 "nbformat_minor": 1
}
