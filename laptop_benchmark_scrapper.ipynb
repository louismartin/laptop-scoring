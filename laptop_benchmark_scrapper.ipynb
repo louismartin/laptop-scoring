{
 "cells": [
  {
   "cell_type": "markdown",
   "metadata": {},
   "source": [
    "# Laptop specifications scrapper\n",
    "Scrap comparez-malin.com for laptop specification"
   ]
  },
  {
   "cell_type": "code",
   "execution_count": 10,
   "metadata": {
    "collapsed": false
   },
   "outputs": [
    {
     "name": "stdout",
     "output_type": "stream",
     "text": [
      "The autoreload extension is already loaded. To reload it, use:\n",
      "  %reload_ext autoreload\n"
     ]
    }
   ],
   "source": [
    "%load_ext autoreload\n",
    "%autoreload 2\n",
    "\n",
    "from tqdm import tqdm\n",
    "from bs4 import BeautifulSoup\n",
    "import pandas as pd\n",
    "import qgrid\n",
    "import numpy as np\n",
    "from IPython.core.interactiveshell import InteractiveShell\n",
    "\n",
    "from laptop_scoring import scrap\n",
    "from laptop_scoring.utils import scale, ease, display_laptop\n",
    "\n",
    "\n",
    "# Display all variables alon in a line\n",
    "InteractiveShell.ast_node_interactivity = \"all\""
   ]
  },
  {
   "cell_type": "markdown",
   "metadata": {},
   "source": [
    "## Get all specs needed"
   ]
  },
  {
   "cell_type": "code",
   "execution_count": 11,
   "metadata": {
    "collapsed": false
   },
   "outputs": [
    {
     "name": "stdout",
     "output_type": "stream",
     "text": [
      "Reading dataframe from data/get_laptops_urls.csv\n",
      "Reading dataframe from data/get_all_laptops_specs.csv\n",
      "Reading dataframe from data/get_cpu_dataframe.csv\n",
      "Reading dataframe from data/get_gpu_dataframe.csv\n"
     ]
    }
   ],
   "source": [
    "#Get links to each laptop page in a  dataframe\n",
    "df_laptops_urls = scrap.get_laptops_urls(overwrite=False)\n",
    "\n",
    "# Get specs for all laptops\n",
    "#df_laptops_urls = df_laptops_urls.sample(n=100, random_state=0)\n",
    "df = scrap.get_all_laptops_specs(df_laptops_urls, overwrite=False)\n",
    "df.columns = df.columns.str.lower().str.replace(\" \", \"_\").str.replace(\".\", \"\").str.replace(\"(\", \"\").str.replace(\")\", \"\")\n",
    "\n",
    "# Get CPU and GPU benchmarks\n",
    "df_cpu = scrap.get_cpu_dataframe(df[\"processeur\"].unique(), overwrite=False)\n",
    "df = df.reset_index().merge(df_cpu, on=\"processeur\", how=\"left\").set_index(\"index\")\n",
    "\n",
    "df_gpu = scrap.get_gpu_dataframe(df[\"puce_graphique_dédiée\"].unique(), overwrite=False)\n",
    "df = df.reset_index().merge(df_gpu, on=\"puce_graphique_dédiée\", how=\"left\").set_index(\"index\")\n",
    "\n",
    "# Clean rows for easier reading\n",
    "df[\"processeur\"] = df[\"processeur\"].str.replace(\"Intel Core\", \"\")\n",
    "df[\"puce_graphique_dédiée\"] = df[\"puce_graphique_dédiée\"].str.replace(\"Nvidia\", \"\").str.replace(\"GeForce\", \"\").str.replace(\"GTX\", \"\")"
   ]
  },
  {
   "cell_type": "markdown",
   "metadata": {},
   "source": [
    "## Processing & Cleaning"
   ]
  },
  {
   "cell_type": "code",
   "execution_count": 12,
   "metadata": {
    "collapsed": false
   },
   "outputs": [],
   "source": [
    "# One-liners\n",
    "df[\"prix_public\"] = df[\"prix_public\"].str.strip(\"€\").str.replace(\" \", \"\").str.replace(\",\", \".\").astype(float)\n",
    "df[\"prix\"] = df[\"prix\"].str.strip(\"€\").str.replace(\" \", \"\").str.replace(\",\", \".\").astype(float)\n",
    "df[[\"coeurs\", \"min_freq\", \"max_freq\"]] = df[\"fréquence\"].str.split(expand=True)[[0,2,4]].astype(float)\n",
    "df[\"single_core_benchmark\"] = df[\"cpu_benchmark\"] / df[\"coeurs\"]\n",
    "df[\"pdt_max\"] = df[\"pdt_max\"].str.split(expand=True)[0].astype(int)\n",
    "df[\"mémoire_ram\"] = df[\"mémoire_ram\"].str.split(expand=True)[0].astype(int)\n",
    "\n",
    "# Split disque_dur in sshd (bool), hdd_size, hdd_speed, ssd_size\n",
    "df[\"sshd\"] = df[\"disque_dur\"].apply(lambda x: (\"cache SSD\" in x))\n",
    "df[\"disque_dur\"] = df[\"disque_dur\"].str.replace(\"cache SSD\", \"\").str.replace(\"(\", \"\").str.replace(\")\", \"\")\n",
    "df[\"hdd_size\"] = df[\"disque_dur\"].apply(lambda x: int(x.split(\"tr/min\")[0].split()[0]) if (\"tr/min\" in x) else 0)\n",
    "df[\"hdd_speed\"] = df[\"disque_dur\"].apply(lambda x: int((x.split(\"tr/min\")[0].strip().split()[-1])) if (\"tr/min\" in x) else 0)\n",
    "df[\"ssd_size\"] = df[\"disque_dur\"].apply(lambda x: int(x.split(\"tr/min\")[-1].split(\"Go SSD\")[0].split()[-1].replace(\"SSD\", \"\")) if (\"Go SSD\" in x) else 0)\n",
    "\n",
    "df[\"res_width\"] = df[\"résolution\"].str.split(expand=True)[0].astype(int)\n",
    "df[\"taille\"] = df[\"taille\"].str.split('\" ', expand=True)[0].astype(float)\n",
    "df[[\"width\", \"depth\", \"height\"]] = df[\"dimensions\"].str.split(expand=True)[[0,2,4]].astype(float)\n",
    "df[[\"width\", \"depth\", \"height\"]] = df[\"dimensions\"].str.split(\"x\", expand=True)\n",
    "# Sometimes heights are written \"17 - 18\" so take the max\n",
    "df[\"height\"] = df[\"height\"].str.replace(\" mm\", \"\").str.split(\"-\", expand=True).fillna(0).astype(float).max(axis=1)\n",
    "df[[\"width\", \"depth\"]] = df[[\"width\", \"depth\"]].astype(float)\n",
    "df[\"poids\"] = df[\"poids\"].str.replace(\"kg\", \"\").str.replace(\"g\", \"\").str.strip().astype(float)\n",
    "# Convert weights expressed in grams to kilograms\n",
    "df[\"poids\"] = df[\"poids\"].apply(lambda x: x if x<100 else x/1000)\n",
    "df = df.fillna(0)"
   ]
  },
  {
   "cell_type": "markdown",
   "metadata": {},
   "source": [
    "## Scoring"
   ]
  },
  {
   "cell_type": "code",
   "execution_count": 13,
   "metadata": {
    "collapsed": true
   },
   "outputs": [],
   "source": [
    "# Wether to use official price (might not be available) or current price\n",
    "#prix = \"prix_public\"\n",
    "prix = \"prix\"\n",
    "if prix == \"prix\":\n",
    "    # Remove laptops with no current price (often because unavailable)\n",
    "    df = df[(df[\"prix\"]!=0)]"
   ]
  },
  {
   "cell_type": "code",
   "execution_count": 17,
   "metadata": {
    "collapsed": false
   },
   "outputs": [
    {
     "name": "stderr",
     "output_type": "stream",
     "text": [
      "100%|██████████| 18/18 [00:00<00:00, 68.38it/s]\n"
     ]
    }
   ],
   "source": [
    "# Adjust the coefficients to your liking !\n",
    "# List of tuples: (col_name, method, do_scale)\n",
    "scoring_methods = [\n",
    "    (prix, lambda x: (x/800) ** 1, False),\n",
    "    (\"single_core_benchmark\", lambda x: x * 0.8, True),\n",
    "    (\"coeurs\", lambda x: x * 1.2, True),\n",
    "    (\"mémoire_ram\", lambda x: x * 0.4, True),\n",
    "    (\"gpu_benchmark\", lambda x: ease(x) * 0.4, True),\n",
    "    (\"min_freq\", lambda x: x * 0.2, True),\n",
    "    (\"max_freq\", lambda x: x * 0.4, True),\n",
    "    (\"pdt_max\", lambda x: x * -0.25, True),\n",
    "    (\"hdd_speed\", lambda x: (x==7200) * 0.2, False),\n",
    "    (\"sshd\", lambda x: x * 0.6, False),\n",
    "    (\"ssd_size\", lambda x: ((x>0) + ease(x))/2 * 0.4, True),\n",
    "    (\"poids\", lambda x: x * -0.5, True),\n",
    "    (\"height\", lambda x: -x * 1, True),\n",
    "    (\"taille\", lambda x: (x>15.6 or x<13.3) * -2 + (x<14) * -1, False),\n",
    "    (\"res_width\", lambda x: (x<1920) * -2 + (x>1920) * 0.3 , False),\n",
    "    (\"composition\", lambda x: ((\"Aluminium\" in x) or (\"Métal\" in x)) * 1, False),\n",
    "    (\"marque\", lambda x: (x==\"Acer\") * -0.5, False),  # Acer is not good quality\n",
    "    (\"référence\", lambda x: (x.startswith(\"G\")) * -0.5, False)  # Asus and MSI Gaming laptops are ugly\n",
    "]\n",
    "\n",
    "df_score = pd.DataFrame(index=df.index, columns=[\"score\"])\n",
    "\n",
    "\n",
    "# Generic methods that take one column as input\n",
    "# and output its associated score\n",
    "for (col_name, method, do_scale) in tqdm(scoring_methods):\n",
    "    col = df[col_name]\n",
    "    if do_scale:\n",
    "        col = scale(col)\n",
    "    df_score[col_name] = col.apply(method)\n",
    "\n",
    "# Compute total score\n",
    "df_score = df_score.fillna(0)\n",
    "df_score[\"total\"] = df_score.drop([\"score\", prix], axis=1).sum(axis=1)\n",
    "df_score[\"total\"] /= df_score[prix]\n",
    "df_score[\"score\"] = df_score[\"total\"]/df_score[\"total\"].max()\n",
    "df[\"score\"] = df_score[\"score\"]\n",
    "df = df.sort_values(by=\"score\", ascending=False)\n",
    "df_score = df_score.loc[df.index]"
   ]
  },
  {
   "cell_type": "markdown",
   "metadata": {},
   "source": [
    "## Display results"
   ]
  },
  {
   "cell_type": "code",
   "execution_count": 18,
   "metadata": {
    "collapsed": false
   },
   "outputs": [],
   "source": [
    "qgrid.set_defaults(grid_options={'forceFitColumns': False})#, 'defaultColumnWidth': 200})\n",
    "cols_to_show = \"url marque référence score taille res_width processeur puce_graphique_dédiée mémoire_ram ssd_size prix\".split()\n",
    "#height single_core_benchmark coeurs cpu_benchmark gpu_benchmark min_freq max_freq pdt_max hdd_speed sshd prix_public\n",
    "qgrid.show_grid(df[cols_to_show])\n",
    "#df_score.head()"
   ]
  },
  {
   "cell_type": "code",
   "execution_count": 19,
   "metadata": {
    "collapsed": false
   },
   "outputs": [
    {
     "name": "stdout",
     "output_type": "stream",
     "text": [
      "--------------------------------------------------\n",
      "Lenovo Yoga 710-14\n",
      "http://www.comparez-malin.fr/informatique/pc-portable/lenovo-yoga-710-14.html\n"
     ]
    },
    {
     "data": {
      "text/html": [
       "<div class=\"row\">\n",
       "<div class=\"col-xs-12 col-sm-12 col-md-12 col-lg-4 text-center vertical-align-middle\">\n",
       "<div class=\"gallery\"><a href=\"http://cdn.comparez-malin.fr/img/lenovo/2016/58475ed8f84140f22f8b456e/lenovo-yoga-710-14-noir-1.jpg?v6\" title=\"Lenovo Yoga 710 - 14\">\n",
       "<img alt=\"Lenovo Yoga 710 - 14\" class=\"padding-30 img-responsive\" itemprop=\"image\" src=\"http://cdn.comparez-malin.fr/img/lenovo/2016/58475ed8f84140f22f8b456e/lenovo-yoga-710-14-noir.jpg?v6\"/>\n",
       "</a></div>\n",
       "</div>\n",
       "<div class=\"col-xs-12 col-sm-12 col-md-6 col-lg-5\"><ul class=\"list-icons padding-top-10 zmdi-hc-ul\">\n",
       "<li><i aria-hidden=\"true\" class=\"zmdi-hc-li zmdi zmdi-check\"></i> Écran tactile de 14.0\" LCD - IPS\n",
       "</li><li><i aria-hidden=\"true\" class=\"zmdi-hc-li zmdi zmdi-check\"></i> Résolution Full HD 1920 x 1080 pixels</li><li><i aria-hidden=\"true\" class=\"zmdi-hc-li zmdi zmdi-check\"></i> Windows 10 Famille</li><li><i aria-hidden=\"true\" class=\"zmdi-hc-li zmdi zmdi-check\"></i> Intel Core i7-7500U (2 x 2.7 à 3.5 GHz)\n",
       "<li><i aria-hidden=\"true\" class=\"zmdi-hc-li zmdi zmdi-check\"></i> Nvidia GeForce 940MX</li><li>\n",
       "<i aria-hidden=\"true\" class=\"zmdi-hc-li zmdi zmdi-check\"></i> 8 Go DDR4 - 2133 MHz</li><li>\n",
       "<i aria-hidden=\"true\" class=\"zmdi-hc-li zmdi zmdi-check\"></i>256 Go (SSD)</li>\n",
       "<li><i aria-hidden=\"true\" class=\"zmdi-hc-li zmdi zmdi-plus-circle-o green-800\"></i> <a class=\"ancre\" href=\"#specs\" title=\"Caractéristiques complètes\">Voir les caractéristiques complètes</a></li>\n",
       "</li></ul></div>\n",
       "<div class=\"col-xs-12 col-sm-12 col-md-6 col-lg-3\"><div class=\"padding-20 margin-top-20 bg-green-50 text-center\">\n",
       "<h3 class=\"green-800 font-size-18 text-uppercase\"><i class=\"zmdi zmdi-trending-down\"></i> Le moins cher</h3>\n",
       "<div class=\"margin-bottom-10\"><h3>Fnac</h3></div>\n",
       "<a class=\"btn btn-lg btn-block btn-success price font-size-24 go\" href=\"/go/290822\" rel=\"nofollow\" target=\"_blank\" title=\"Voir l'offre sur Fnac\">899,99 €</a>\n",
       "<input class=\"product_categorie\" type=\"hidden\" value=\"PC portable\"/>\n",
       "<input class=\"product_name\" type=\"hidden\" value=\"Lenovo Yoga 710 - 14\"/>\n",
       "<input class=\"product_price\" type=\"hidden\" value=\"899.99\"/>\n",
       "<input class=\"product_offer\" type=\"hidden\" value=\"Fnac\"/>\n",
       "<input class=\"product_id\" type=\"hidden\" value=\"290822\"/>\n",
       "<div class=\"margin-top-10 font-size-12\">+ 13,99€ de livraison</div>\n",
       "<div class=\"margin-top-10 font-size-14\">En stock</div>\n",
       "</div><p class=\"text-center font-size-12 margin-top-15\">Prix conseillé en décembre 2016 : 999,00€</p></div>\n",
       "</div>"
      ],
      "text/plain": [
       "<IPython.core.display.HTML object>"
      ]
     },
     "metadata": {},
     "output_type": "display_data"
    },
    {
     "name": "stdout",
     "output_type": "stream",
     "text": [
      "--------------------------------------------------\n",
      "Asus UX501VW-FI041T\n",
      "http://www.comparez-malin.fr/informatique/pc-portable/asus-zenbook-pro-ux501vw-fi041t.html\n"
     ]
    },
    {
     "data": {
      "text/html": [
       "<div class=\"row\">\n",
       "<div class=\"col-xs-12 col-sm-12 col-md-12 col-lg-4 text-center vertical-align-middle\">\n",
       "<div class=\"gallery\"><a href=\"http://cdn.comparez-malin.fr/img/asus/2016/582c4b24f8414002498b4568/asus-zenbook-pro-ux501-1.jpg?v6\" title=\"Asus Zenbook Pro UX501VW-FI041T\">\n",
       "<img alt=\"Asus Zenbook Pro UX501VW-FI041T\" class=\"padding-30 img-responsive\" itemprop=\"image\" src=\"http://cdn.comparez-malin.fr/img/asus/2016/582c4b24f8414002498b4568/asus-zenbook-pro-ux501.jpg?v6\"/>\n",
       "</a></div>\n",
       "</div>\n",
       "<div class=\"col-xs-12 col-sm-12 col-md-6 col-lg-5\"><ul class=\"list-icons padding-top-10 zmdi-hc-ul\">\n",
       "<li><i aria-hidden=\"true\" class=\"zmdi-hc-li zmdi zmdi-check\"></i> Écran de 15.6\" LCD - IPS\n",
       "</li><li><i aria-hidden=\"true\" class=\"zmdi-hc-li zmdi zmdi-check\"></i> Résolution 4K UHD 3840 x 2160 pixels</li><li><i aria-hidden=\"true\" class=\"zmdi-hc-li zmdi zmdi-check\"></i> Windows 10 Famille</li><li><i aria-hidden=\"true\" class=\"zmdi-hc-li zmdi zmdi-check\"></i> Intel Core i7-6700HQ (4 x 2.6 à 3.5 GHz)\n",
       "<li><i aria-hidden=\"true\" class=\"zmdi-hc-li zmdi zmdi-check\"></i> Nvidia GeForce GTX 960M\t</li><li>\n",
       "<i aria-hidden=\"true\" class=\"zmdi-hc-li zmdi zmdi-check\"></i> 16 Go DDR4 - 2133 MHz</li><li>\n",
       "<i aria-hidden=\"true\" class=\"zmdi-hc-li zmdi zmdi-check\"></i>1000 Go (5400 tr/min) + 128 Go (SSD)</li>\n",
       "<li><i aria-hidden=\"true\" class=\"zmdi-hc-li zmdi zmdi-plus-circle-o green-800\"></i> <a class=\"ancre\" href=\"#specs\" title=\"Caractéristiques complètes\">Voir les caractéristiques complètes</a></li>\n",
       "</li></ul></div>\n",
       "<div class=\"col-xs-12 col-sm-12 col-md-6 col-lg-3\"><div class=\"padding-20 margin-top-20 bg-green-50 text-center\">\n",
       "<h3 class=\"green-800 font-size-18 text-uppercase\"><i class=\"zmdi zmdi-trending-down\"></i> Le moins cher</h3>\n",
       "<div class=\"margin-bottom-10\"><h3>Fnac</h3></div>\n",
       "<a class=\"btn btn-lg btn-block btn-success price font-size-24 go\" href=\"/go/293504\" rel=\"nofollow\" target=\"_blank\" title=\"Voir l'offre sur Fnac\">1 199,99 €</a>\n",
       "<input class=\"product_categorie\" type=\"hidden\" value=\"PC portable\"/>\n",
       "<input class=\"product_name\" type=\"hidden\" value=\"Asus Zenbook Pro UX501VW-FI041T\"/>\n",
       "<input class=\"product_price\" type=\"hidden\" value=\"1199.99\"/>\n",
       "<input class=\"product_offer\" type=\"hidden\" value=\"Fnac\"/>\n",
       "<input class=\"product_id\" type=\"hidden\" value=\"293504\"/>\n",
       "<div class=\"margin-top-10 font-size-12\">+ 13,99€ de livraison</div>\n",
       "<div class=\"margin-top-10 font-size-14\">En stock</div>\n",
       "</div><p class=\"text-center font-size-12 margin-top-15\">Prix conseillé en novembre 2016 : 1 399,00€</p></div>\n",
       "</div>"
      ],
      "text/plain": [
       "<IPython.core.display.HTML object>"
      ]
     },
     "metadata": {},
     "output_type": "display_data"
    },
    {
     "name": "stdout",
     "output_type": "stream",
     "text": [
      "--------------------------------------------------\n",
      "MSI 6RF-020XFR\n",
      "http://www.comparez-malin.fr/informatique/pc-portable/msi-gs63vr-6rf-020xfr.html\n"
     ]
    },
    {
     "data": {
      "text/html": [
       "<div class=\"row\">\n",
       "<div class=\"col-xs-12 col-sm-12 col-md-12 col-lg-4 text-center vertical-align-middle\">\n",
       "<div class=\"gallery\"><a href=\"http://cdn.comparez-malin.fr/img/msi/2016/57b4726ef84140b4658b456a/msi-gs63vr-1.jpg?v6\" title=\"MSI GS63VR 6RF-020XFR\">\n",
       "<img alt=\"MSI GS63VR 6RF-020XFR\" class=\"padding-30 img-responsive\" itemprop=\"image\" src=\"http://cdn.comparez-malin.fr/img/msi/2016/57b4726ef84140b4658b456a/msi-gs63vr.jpg?v6\"/>\n",
       "</a></div>\n",
       "</div>\n",
       "<div class=\"col-xs-12 col-sm-12 col-md-6 col-lg-5\"><ul class=\"list-icons padding-top-10 zmdi-hc-ul\">\n",
       "<li><i aria-hidden=\"true\" class=\"zmdi-hc-li zmdi zmdi-check\"></i> Écran de 15.6\" LCD - IPS\n",
       "(anti-reflets)</li><li><i aria-hidden=\"true\" class=\"zmdi-hc-li zmdi zmdi-check\"></i> Résolution Full HD 1920 x 1080 pixels</li><li><i aria-hidden=\"true\" class=\"zmdi-hc-li zmdi zmdi-check\"></i> FreeDOS 1.1</li><li><i aria-hidden=\"true\" class=\"zmdi-hc-li zmdi zmdi-check\"></i> Intel Core i7-6700HQ (4 x 2.6 à 3.5 GHz)\n",
       "<li><i aria-hidden=\"true\" class=\"zmdi-hc-li zmdi zmdi-check\"></i> Nvidia GeForce GTX 1060</li><li>\n",
       "<i aria-hidden=\"true\" class=\"zmdi-hc-li zmdi zmdi-check\"></i> 16 Go DDR4 - 2400 MHz</li><li>\n",
       "<i aria-hidden=\"true\" class=\"zmdi-hc-li zmdi zmdi-check\"></i>1000 Go (5400 tr/min) + 256 Go (SSD)</li>\n",
       "<li><i aria-hidden=\"true\" class=\"zmdi-hc-li zmdi zmdi-plus-circle-o green-800\"></i> <a class=\"ancre\" href=\"#specs\" title=\"Caractéristiques complètes\">Voir les caractéristiques complètes</a></li>\n",
       "</li></ul></div>\n",
       "<div class=\"col-xs-12 col-sm-12 col-md-6 col-lg-3\"><div class=\"padding-20 margin-top-20 bg-green-50 text-center\">\n",
       "<h3 class=\"green-800 font-size-18 text-uppercase\"><i class=\"zmdi zmdi-trending-down\"></i> Le moins cher</h3>\n",
       "<div class=\"margin-bottom-10\"><h3>GrosBill</h3></div>\n",
       "<a class=\"btn btn-lg btn-block btn-success price font-size-24 go\" href=\"/go/280619\" rel=\"nofollow\" target=\"_blank\" title=\"Voir l'offre sur GrosBill\">1 529,10 €</a>\n",
       "<input class=\"product_categorie\" type=\"hidden\" value=\"PC portable\"/>\n",
       "<input class=\"product_name\" type=\"hidden\" value=\"MSI GS63VR 6RF-020XFR\"/>\n",
       "<input class=\"product_price\" type=\"hidden\" value=\"1529.10\"/>\n",
       "<input class=\"product_offer\" type=\"hidden\" value=\"GrosBill\"/>\n",
       "<input class=\"product_id\" type=\"hidden\" value=\"280619\"/>\n",
       "<div class=\"margin-top-10 font-size-12\">+ 10,95€ de livraison</div>\n",
       "<div class=\"margin-top-10 font-size-14\">En stock</div>\n",
       "</div><p class=\"text-center font-size-12 margin-top-15\">Prix conseillé en août 2016 : 1 999,00€</p></div>\n",
       "</div>"
      ],
      "text/plain": [
       "<IPython.core.display.HTML object>"
      ]
     },
     "metadata": {},
     "output_type": "display_data"
    }
   ],
   "source": [
    "# Display n top ranked computer web pages\n",
    "n = 3\n",
    "iframe = '<iframe width=\"100%\" height=\"350\" src=\"{}\"></iframe>'\n",
    "for i, (index, row) in enumerate(df.iterrows()):\n",
    "    print(\"-\" * 50)\n",
    "    print(\"{} {}\".format(row[\"marque\"], row[\"référence\"]))\n",
    "    print(row[\"url\"])\n",
    "    #print(df_score.loc[index])\n",
    "    display_laptop(row[\"url\"])\n",
    "    if i >= (n-1):\n",
    "        break"
   ]
  }
 ],
 "metadata": {
  "kernelspec": {
   "display_name": "Python 3",
   "language": "python",
   "name": "python3"
  },
  "language_info": {
   "codemirror_mode": {
    "name": "ipython",
    "version": 3
   },
   "file_extension": ".py",
   "mimetype": "text/x-python",
   "name": "python",
   "nbconvert_exporter": "python",
   "pygments_lexer": "ipython3",
   "version": "3.5.2"
  },
  "widgets": {
   "state": {
    "3af7593e4571464796f13f947e72b691": {
     "views": [
      {
       "cell_index": 10
      }
     ]
    }
   },
   "version": "1.2.0"
  }
 },
 "nbformat": 4,
 "nbformat_minor": 1
}
