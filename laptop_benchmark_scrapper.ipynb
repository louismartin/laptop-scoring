{
 "cells": [
  {
   "cell_type": "markdown",
   "metadata": {},
   "source": [
    "# Laptop specifications scrapper\n",
    "Scrap comparez-malin.com for laptop specification"
   ]
  },
  {
   "cell_type": "code",
   "execution_count": 1,
   "metadata": {
    "collapsed": false
   },
   "outputs": [],
   "source": [
    "%load_ext autoreload\n",
    "%autoreload 2\n",
    "\n",
    "from tqdm import tqdm\n",
    "from bs4 import BeautifulSoup\n",
    "import pandas as pd\n",
    "import qgrid\n",
    "import numpy as np\n",
    "from IPython.core.interactiveshell import InteractiveShell\n",
    "\n",
    "from laptop_scoring import scrap\n",
    "from laptop_scoring.processing import process_and_clean\n",
    "from laptop_scoring.utils import scale, ease, display_laptop, print_score\n",
    "\n",
    "\n",
    "# Display all variables alon in a line\n",
    "InteractiveShell.ast_node_interactivity = \"all\""
   ]
  },
  {
   "cell_type": "markdown",
   "metadata": {},
   "source": [
    "## Get all specs needed"
   ]
  },
  {
   "cell_type": "code",
   "execution_count": 2,
   "metadata": {
    "collapsed": false
   },
   "outputs": [
    {
     "name": "stdout",
     "output_type": "stream",
     "text": [
      "Reading dataframe from data/get_laptops_urls.csv\n",
      "Reading dataframe from data/get_all_laptops_specs.csv\n",
      "Reading dataframe from data/get_cpu_dataframe.csv\n",
      "Reading dataframe from data/get_gpu_dataframe.csv\n"
     ]
    }
   ],
   "source": [
    "#Get links to each laptop page in a  dataframe\n",
    "df_laptops_urls = scrap.get_laptops_urls(overwrite=False)\n",
    "\n",
    "# Get specs for all laptops\n",
    "#df_laptops_urls = df_laptops_urls.sample(n=100, random_state=0)\n",
    "df = scrap.get_all_laptops_specs(df_laptops_urls, overwrite=False)\n",
    "df.columns = df.columns.str.lower().str.replace(\" \", \"_\").str.replace(\".\", \"\").str.replace(\"(\", \"\").str.replace(\")\", \"\")\n",
    "\n",
    "# Get CPU and GPU benchmarks\n",
    "df_cpu = scrap.get_cpu_dataframe(df[\"processeur\"].unique(), overwrite=False)\n",
    "df = df.reset_index().merge(df_cpu, on=\"processeur\", how=\"left\").set_index(\"index\")\n",
    "\n",
    "df_gpu = scrap.get_gpu_dataframe(df[\"puce_graphique_dédiée\"].unique(), overwrite=False)\n",
    "df = df.reset_index().merge(df_gpu, on=\"puce_graphique_dédiée\", how=\"left\").set_index(\"index\")\n",
    "\n",
    "# Clean rows for easier reading\n",
    "df[\"processeur\"] = df[\"processeur\"].str.replace(\"Intel Core\", \"\")\n",
    "df[\"puce_graphique_dédiée\"] = df[\"puce_graphique_dédiée\"].str.replace(\"Nvidia\", \"\").str.replace(\"GeForce\", \"\").str.replace(\"GTX\", \"\")\n",
    "\n",
    "# Processing and cleaning\n",
    "df = process_and_clean(df)"
   ]
  },
  {
   "cell_type": "markdown",
   "metadata": {},
   "source": [
    "## Filtering"
   ]
  },
  {
   "cell_type": "code",
   "execution_count": 3,
   "metadata": {
    "collapsed": false
   },
   "outputs": [],
   "source": [
    "# Keep only computers that fit your needs\n",
    "df = df[df[\"gpu_benchmark\"]>500]\n",
    "df = df[df[\"cpu_benchmark\"]>3000]\n",
    "df = df[(df[\"taille\"]>=13.3) & (df[\"taille\"]<=15.6)]\n",
    "df = df[df[\"res_width\"]>=1920]\n",
    "df = df[df[\"marque\"]!=\"MSI\"]\n",
    "df = df[df[\"url\"].apply(lambda x: \"rog\" not in x)]"
   ]
  },
  {
   "cell_type": "markdown",
   "metadata": {},
   "source": [
    "## Scoring"
   ]
  },
  {
   "cell_type": "code",
   "execution_count": 4,
   "metadata": {
    "collapsed": true
   },
   "outputs": [],
   "source": [
    "# Wether to use official price (might not be available) or current price\n",
    "#prix = \"prix_public\"\n",
    "prix = \"prix\"\n",
    "if prix == \"prix\":\n",
    "    # Remove laptops with no current price (often because unavailable)\n",
    "    df = df[(df[\"prix\"]!=0)]"
   ]
  },
  {
   "cell_type": "code",
   "execution_count": 5,
   "metadata": {
    "collapsed": false
   },
   "outputs": [
    {
     "name": "stderr",
     "output_type": "stream",
     "text": [
      "100%|██████████| 20/20 [00:00<00:00, 623.16it/s]\n"
     ]
    }
   ],
   "source": [
    "# Adjust the coefficients to your liking !\n",
    "# List of tuples: (col_name, method, do_scale)\n",
    "scoring_methods = [\n",
    "    (prix, lambda x: (x/700) ** 4, False),\n",
    "    (\"single_core_benchmark\", lambda x: x * 0.6, True),\n",
    "    (\"coeurs\", lambda x: x * 1.2, True),\n",
    "    (\"mémoire_ram\", lambda x: x * 0.4, True),\n",
    "    (\"gpu_benchmark\", lambda x: ease(x, method=\"log\", asymetric=True) * 1.2, True),\n",
    "    (\"min_freq\", lambda x: x * 0.2, True),\n",
    "    (\"max_freq\", lambda x: x * 0.4, True),\n",
    "    (\"pdt_max\", lambda x: x * -0.25, True),\n",
    "    (\"hdd_speed\", lambda x: (x==7200) * 0.2, False),\n",
    "    (\"sshd\", lambda x: x * 0.6, False),\n",
    "    (\"ssd_size\", lambda x: ((x>0) + ease(x))/2 * 0.6, True),\n",
    "    (\"poids\", lambda x: x * -0.5, True),\n",
    "    (\"height\", lambda x: -ease(x) * 0.5, True),\n",
    "    (\"taille\", lambda x: (x>15.6 or x<13.3) * -3 + (x<14) * -2, False),\n",
    "    (\"screen_to_body\", lambda x: x * 0.5, True),\n",
    "    (\"res_width\", lambda x: (x<1920) * -2 + (x>1920) * 0.3 , False),\n",
    "    (\"composition\",\n",
    "     lambda x: (\n",
    "            ((\"Aluminium\" in x) or (\"Métal\" in x)) * 0.7\n",
    "           + (\"Plastique\" in x) * -0.5\n",
    "        ) , False),\n",
    "    (\"type_c\",\n",
    "     lambda x: (\n",
    "            (\"Gen 1\" in x) * 0.1\n",
    "          + (\"Gen 2\" in x) * 0.2\n",
    "          + (\"Thunderbolt\" in x) * 0.2\n",
    "          + (\"Charging\" in x) * 0.2\n",
    "        ), False),\n",
    "    (\"marque\", lambda x: (x==\"Acer\") * -0.5 + (x==\"MSI\") * -2, False),  # Acer is not good quality and MSI are ugly\n",
    "    (\"url\", lambda x: (\"rog\" in x) * -2, False)  # Asus ROG are ugly\n",
    "]\n",
    "\n",
    "df_score = pd.DataFrame(index=df.index, columns=[\"score\"])\n",
    "\n",
    "\n",
    "# Generic methods that take one column as input\n",
    "# and output its associated score\n",
    "for (col_name, method, do_scale) in tqdm(scoring_methods):\n",
    "    col = df[col_name]\n",
    "    if do_scale:\n",
    "        col = scale(col)\n",
    "    df_score[col_name] = col.apply(method)\n",
    "\n",
    "# Compute total score\n",
    "df_score = df_score.fillna(0)\n",
    "df_score[\"total\"] = df_score.drop([\"score\", prix], axis=1).sum(axis=1)\n",
    "df_score[\"total\"] /= df_score[prix]\n",
    "df_score[\"score\"] = df_score[\"total\"]/df_score[\"total\"].max()\n",
    "df[\"score\"] = df_score[\"score\"]\n",
    "df = df.sort_values(by=\"score\", ascending=False)\n",
    "df_score = df_score.loc[df.index]"
   ]
  },
  {
   "cell_type": "markdown",
   "metadata": {},
   "source": [
    "## Display results"
   ]
  },
  {
   "cell_type": "code",
   "execution_count": 6,
   "metadata": {
    "collapsed": false
   },
   "outputs": [],
   "source": [
    "#qgrid.set_defaults(grid_options={'forceFitColumns': False})#, 'defaultColumnWidth': 200})\n",
    "cols_to_show = \"url marque référence score type_c taille screen_to_body res_width processeur puce_graphique_dédiée gpu_benchmark mémoire_ram ssd_size prix\".split()\n",
    "#height single_core_benchmark coeurs cpu_benchmark gpu_benchmark min_freq max_freq pdt_max hdd_speed sshd prix_public\n",
    "qgrid.show_grid(df[cols_to_show])\n",
    "#df_score.head()"
   ]
  },
  {
   "cell_type": "code",
   "execution_count": 7,
   "metadata": {
    "collapsed": false
   },
   "outputs": [
    {
     "name": "stdout",
     "output_type": "stream",
     "text": [
      "--------------------------------------------------\n",
      "http://www.comparez-malin.fr/informatique/pc-portable/lenovo-yoga-710-14.html\n",
      "Lenovo Yoga 710-14\n"
     ]
    },
    {
     "data": {
      "text/html": [
       "<div class=\"row\">\n",
       "<div class=\"col-xs-12 col-sm-12 col-md-12 col-lg-4 text-center vertical-align-middle\">\n",
       "<div class=\"gallery\"><a href=\"http://cdn.comparez-malin.fr/img/lenovo/2016/58475ed8f84140f22f8b456e/lenovo-yoga-710-14-noir-1.jpg?v6\" title=\"Lenovo Yoga 710 - 14\">\n",
       "<img alt=\"Lenovo Yoga 710 - 14\" class=\"padding-30 img-responsive\" itemprop=\"image\" src=\"http://cdn.comparez-malin.fr/img/lenovo/2016/58475ed8f84140f22f8b456e/lenovo-yoga-710-14-noir.jpg?v6\"/>\n",
       "</a></div>\n",
       "</div>\n",
       "<div class=\"col-xs-12 col-sm-12 col-md-6 col-lg-5\"><ul class=\"list-icons padding-top-10 zmdi-hc-ul\">\n",
       "<li><i aria-hidden=\"true\" class=\"zmdi-hc-li zmdi zmdi-check\"></i> Écran tactile de 14.0\" LCD - IPS\n",
       "</li><li><i aria-hidden=\"true\" class=\"zmdi-hc-li zmdi zmdi-check\"></i> Résolution Full HD 1920 x 1080 pixels</li><li><i aria-hidden=\"true\" class=\"zmdi-hc-li zmdi zmdi-check\"></i> Windows 10 Famille</li><li><i aria-hidden=\"true\" class=\"zmdi-hc-li zmdi zmdi-check\"></i> Intel Core i7-7500U (2 x 2.7 à 3.5 GHz)\n",
       "<li><i aria-hidden=\"true\" class=\"zmdi-hc-li zmdi zmdi-check\"></i> Nvidia GeForce 940MX</li><li>\n",
       "<i aria-hidden=\"true\" class=\"zmdi-hc-li zmdi zmdi-check\"></i> 8 Go DDR4 - 2133 MHz</li><li>\n",
       "<i aria-hidden=\"true\" class=\"zmdi-hc-li zmdi zmdi-check\"></i>256 Go (SSD)</li>\n",
       "<li><i aria-hidden=\"true\" class=\"zmdi-hc-li zmdi zmdi-plus-circle-o green-800\"></i> <a class=\"ancre\" href=\"#specs\" title=\"Caractéristiques complètes\">Voir les caractéristiques complètes</a></li>\n",
       "</li></ul></div>\n",
       "<div class=\"col-xs-12 col-sm-12 col-md-6 col-lg-3\"><div class=\"padding-20 margin-top-20 bg-green-50 text-center\">\n",
       "<h3 class=\"green-800 font-size-18 text-uppercase\"><i class=\"zmdi zmdi-trending-down\"></i> Le moins cher</h3>\n",
       "<div class=\"margin-bottom-10\"><h3>Fnac</h3></div>\n",
       "<a class=\"btn btn-lg btn-block btn-success price font-size-24 go\" href=\"http://www.comparez-malin.fr/go/290822\" rel=\"nofollow\" target=\"_blank\" title=\"Voir l'offre sur Fnac\">899,99 €</a>\n",
       "<input class=\"product_categorie\" type=\"hidden\" value=\"PC portable\"/>\n",
       "<input class=\"product_name\" type=\"hidden\" value=\"Lenovo Yoga 710 - 14\"/>\n",
       "<input class=\"product_price\" type=\"hidden\" value=\"899.99\"/>\n",
       "<input class=\"product_offer\" type=\"hidden\" value=\"Fnac\"/>\n",
       "<input class=\"product_id\" type=\"hidden\" value=\"290822\"/>\n",
       "<div class=\"margin-top-10 font-size-12\">+ 13,99€ de livraison</div>\n",
       "<div class=\"margin-top-10 font-size-14\">En stock</div>\n",
       "</div><p class=\"text-center font-size-12 margin-top-15\">Prix conseillé en décembre 2016 : 999,00€</p></div>\n",
       "</div>"
      ],
      "text/plain": [
       "<IPython.core.display.HTML object>"
      ]
     },
     "metadata": {},
     "output_type": "display_data"
    },
    {
     "name": "stdout",
     "output_type": "stream",
     "text": [
      "--------------------------------------------------\n",
      "http://www.comparez-malin.fr/informatique/pc-portable/asus-r510iu-dm025t.html\n",
      "Asus R510IU-DM025T\n"
     ]
    },
    {
     "data": {
      "text/html": [
       "<div class=\"row\">\n",
       "<div class=\"col-xs-12 col-sm-12 col-md-12 col-lg-4 text-center vertical-align-middle\">\n",
       "<div class=\"gallery\"><a href=\"http://cdn.comparez-malin.fr/img/asus/2016/586144e6f8414046378b4568/asus-r510-w10-1.jpg?v6\" title=\"Asus R510IU-DM025T\">\n",
       "<img alt=\"Asus R510IU-DM025T\" class=\"padding-30 img-responsive\" itemprop=\"image\" src=\"http://cdn.comparez-malin.fr/img/asus/2016/586144e6f8414046378b4568/asus-r510-w10.jpg?v6\"/>\n",
       "</a></div>\n",
       "</div>\n",
       "<div class=\"col-xs-12 col-sm-12 col-md-6 col-lg-5\"><ul class=\"list-icons padding-top-10 zmdi-hc-ul\">\n",
       "<li><i aria-hidden=\"true\" class=\"zmdi-hc-li zmdi zmdi-check\"></i> Écran de 15.6\" LCD - TN\n",
       "(anti-reflets)</li><li><i aria-hidden=\"true\" class=\"zmdi-hc-li zmdi zmdi-check\"></i> Résolution Full HD 1920 x 1080 pixels</li><li><i aria-hidden=\"true\" class=\"zmdi-hc-li zmdi zmdi-check\"></i> Windows 10 Famille</li><li><i aria-hidden=\"true\" class=\"zmdi-hc-li zmdi zmdi-check\"></i> AMD FX-9830P (4 x 3 à 3.7 GHz)\n",
       "<li><i aria-hidden=\"true\" class=\"zmdi-hc-li zmdi zmdi-check\"></i> AMD Radeon RX 460</li><li>\n",
       "<i aria-hidden=\"true\" class=\"zmdi-hc-li zmdi zmdi-check\"></i> 8 Go DDR4 - 2133 MHz</li><li>\n",
       "<i aria-hidden=\"true\" class=\"zmdi-hc-li zmdi zmdi-check\"></i>1000 Go (5400 tr/min) + 128 Go (SSD)</li>\n",
       "<li><i aria-hidden=\"true\" class=\"zmdi-hc-li zmdi zmdi-plus-circle-o green-800\"></i> <a class=\"ancre\" href=\"#specs\" title=\"Caractéristiques complètes\">Voir les caractéristiques complètes</a></li>\n",
       "</li></ul></div>\n",
       "<div class=\"col-xs-12 col-sm-12 col-md-6 col-lg-3\"><div class=\"padding-20 margin-top-20 bg-green-50 text-center\">\n",
       "<h3 class=\"green-800 font-size-18 text-uppercase\"><i class=\"zmdi zmdi-trending-down\"></i> Le moins cher</h3>\n",
       "<div class=\"margin-bottom-10\"><h3>RueDuCommerce</h3></div>\n",
       "<a class=\"btn btn-lg btn-block btn-success price font-size-24 go\" href=\"http://www.comparez-malin.fr/go/292080\" rel=\"nofollow\" target=\"_blank\" title=\"Voir l'offre sur RueDuCommerce\">719,99 €</a>\n",
       "<input class=\"product_categorie\" type=\"hidden\" value=\"PC portable\"/>\n",
       "<input class=\"product_name\" type=\"hidden\" value=\"Asus R510IU-DM025T\"/>\n",
       "<input class=\"product_price\" type=\"hidden\" value=\"719.99\"/>\n",
       "<input class=\"product_offer\" type=\"hidden\" value=\"RueDuCommerce\"/>\n",
       "<input class=\"product_id\" type=\"hidden\" value=\"292080\"/>\n",
       "<div class=\"margin-top-10 font-size-12\"><span class=\"label label-warning font-size-12\">Livraison offerte</span></div>\n",
       "<div class=\"margin-top-10 font-size-14\">En stock</div>\n",
       "</div><p class=\"text-center font-size-12 margin-top-15\">Prix conseillé en décembre 2016 : 799,00€</p></div>\n",
       "</div>"
      ],
      "text/plain": [
       "<IPython.core.display.HTML object>"
      ]
     },
     "metadata": {},
     "output_type": "display_data"
    },
    {
     "name": "stdout",
     "output_type": "stream",
     "text": [
      "--------------------------------------------------\n",
      "http://www.comparez-malin.fr/informatique/pc-portable/hp-pavilion-15-bc012nf.html\n",
      "HP Y0V60EA#ABF\n"
     ]
    },
    {
     "data": {
      "text/html": [
       "<div class=\"row\">\n",
       "<div class=\"col-xs-12 col-sm-12 col-md-12 col-lg-4 text-center vertical-align-middle\">\n",
       "<div class=\"gallery\"><a href=\"http://cdn.comparez-malin.fr/img/hp/2016/5784e8700a086d681b8b4567/hp-pavilion-15-2016-silver-1.jpg?v6\" title=\"HP Pavilion 15-bc012nf\">\n",
       "<img alt=\"HP Pavilion 15-bc012nf\" class=\"padding-30 img-responsive\" itemprop=\"image\" src=\"http://cdn.comparez-malin.fr/img/hp/2016/5784e8700a086d681b8b4567/hp-pavilion-15-2016-silver.jpg?v6\"/>\n",
       "</a></div>\n",
       "</div>\n",
       "<div class=\"col-xs-12 col-sm-12 col-md-6 col-lg-5\"><ul class=\"list-icons padding-top-10 zmdi-hc-ul\">\n",
       "<li><i aria-hidden=\"true\" class=\"zmdi-hc-li zmdi zmdi-check\"></i> Écran de 15.6\" LCD - IPS\n",
       "(anti-reflets)</li><li><i aria-hidden=\"true\" class=\"zmdi-hc-li zmdi zmdi-check\"></i> Résolution Full HD 1920 x 1080 pixels</li><li><i aria-hidden=\"true\" class=\"zmdi-hc-li zmdi zmdi-check\"></i> Windows 10 Famille</li><li><i aria-hidden=\"true\" class=\"zmdi-hc-li zmdi zmdi-check\"></i> Intel Core i7-6700HQ (4 x 2.6 à 3.5 GHz)\n",
       "<li><i aria-hidden=\"true\" class=\"zmdi-hc-li zmdi zmdi-check\"></i> Nvidia GeForce GTX 950M</li><li>\n",
       "<i aria-hidden=\"true\" class=\"zmdi-hc-li zmdi zmdi-check\"></i> 8 Go DDR4 - 2133 MHz</li><li>\n",
       "<i aria-hidden=\"true\" class=\"zmdi-hc-li zmdi zmdi-check\"></i>1000 Go (7200 tr/min) + 128 Go (SSD)</li>\n",
       "<li><i aria-hidden=\"true\" class=\"zmdi-hc-li zmdi zmdi-plus-circle-o green-800\"></i> <a class=\"ancre\" href=\"#specs\" title=\"Caractéristiques complètes\">Voir les caractéristiques complètes</a></li>\n",
       "</li></ul></div>\n",
       "<div class=\"col-xs-12 col-sm-12 col-md-6 col-lg-3\"><div class=\"padding-20 margin-top-20 bg-green-50 text-center\">\n",
       "<h3 class=\"green-800 font-size-18 text-uppercase\"><i class=\"zmdi zmdi-trending-down\"></i> Le moins cher</h3>\n",
       "<div class=\"margin-bottom-10\"><h3>Price Minister</h3></div>\n",
       "<a class=\"btn btn-lg btn-block btn-success price font-size-24 go\" href=\"http://www.comparez-malin.fr/go/291985\" rel=\"nofollow\" target=\"_blank\" title=\"Voir l'offre sur Price Minister\">695,00 €</a>\n",
       "<input class=\"product_categorie\" type=\"hidden\" value=\"PC portable\"/>\n",
       "<input class=\"product_name\" type=\"hidden\" value=\"HP Pavilion 15-bc012nf\"/>\n",
       "<input class=\"product_price\" type=\"hidden\" value=\"695.00\"/>\n",
       "<input class=\"product_offer\" type=\"hidden\" value=\"Price Minister\"/>\n",
       "<input class=\"product_id\" type=\"hidden\" value=\"291985\"/>\n",
       "<div class=\"margin-top-10 font-size-12\">+ 10,90€ de livraison</div>\n",
       "<div class=\"margin-top-10 font-size-14\">En stock</div>\n",
       "</div><p class=\"text-center font-size-12 margin-top-15\">Prix conseillé en août 2016 : 1 049,00€</p></div>\n",
       "</div>"
      ],
      "text/plain": [
       "<IPython.core.display.HTML object>"
      ]
     },
     "metadata": {},
     "output_type": "display_data"
    },
    {
     "name": "stdout",
     "output_type": "stream",
     "text": [
      "--------------------------------------------------\n",
      "http://www.comparez-malin.fr/informatique/pc-portable/lenovo-yoga-710-14isk-80ty0016fr.html\n",
      "Lenovo 80TY0016FR\n"
     ]
    },
    {
     "data": {
      "text/html": [
       "<div class=\"row\">\n",
       "<div class=\"col-xs-12 col-sm-12 col-md-12 col-lg-4 text-center vertical-align-middle\">\n",
       "<div class=\"gallery\"><a href=\"http://cdn.comparez-malin.fr/img/lenovo/2016/58475aecf84140f22f8b456c/lenovo-yoga-710-14-noir-1.jpg?v6\" title=\"Lenovo Yoga 710 - 14ISK-80TY0016FR\">\n",
       "<img alt=\"Lenovo Yoga 710 - 14ISK-80TY0016FR\" class=\"padding-30 img-responsive\" itemprop=\"image\" src=\"http://cdn.comparez-malin.fr/img/lenovo/2016/58475aecf84140f22f8b456c/lenovo-yoga-710-14-noir.jpg?v6\"/>\n",
       "</a></div>\n",
       "</div>\n",
       "<div class=\"col-xs-12 col-sm-12 col-md-6 col-lg-5\"><ul class=\"list-icons padding-top-10 zmdi-hc-ul\">\n",
       "<li><i aria-hidden=\"true\" class=\"zmdi-hc-li zmdi zmdi-check\"></i> Écran tactile de 14.0\" LCD - IPS\n",
       "</li><li><i aria-hidden=\"true\" class=\"zmdi-hc-li zmdi zmdi-check\"></i> Résolution Full HD 1920 x 1080 pixels</li><li><i aria-hidden=\"true\" class=\"zmdi-hc-li zmdi zmdi-check\"></i> Windows 10 Famille</li><li><i aria-hidden=\"true\" class=\"zmdi-hc-li zmdi zmdi-check\"></i> Intel Core i7-6500U (2 x 2.5 à 3.1 GHz)\n",
       "<li><i aria-hidden=\"true\" class=\"zmdi-hc-li zmdi zmdi-check\"></i> Nvidia GeForce 940MX</li><li>\n",
       "<i aria-hidden=\"true\" class=\"zmdi-hc-li zmdi zmdi-check\"></i> 8 Go DDR4 - 2133 MHz</li><li>\n",
       "<i aria-hidden=\"true\" class=\"zmdi-hc-li zmdi zmdi-check\"></i>256 Go (SSD)</li>\n",
       "<li><i aria-hidden=\"true\" class=\"zmdi-hc-li zmdi zmdi-plus-circle-o green-800\"></i> <a class=\"ancre\" href=\"#specs\" title=\"Caractéristiques complètes\">Voir les caractéristiques complètes</a></li>\n",
       "</li></ul></div>\n",
       "<div class=\"col-xs-12 col-sm-12 col-md-6 col-lg-3\"><div class=\"padding-20 margin-top-20 bg-green-50 text-center\">\n",
       "<h3 class=\"green-800 font-size-18 text-uppercase\"><i class=\"zmdi zmdi-trending-down\"></i> Le moins cher</h3>\n",
       "<div class=\"margin-bottom-10\"><h3>Amazon</h3></div>\n",
       "<a class=\"btn btn-lg btn-block btn-success price font-size-24 go\" href=\"http://www.comparez-malin.fr/go/290820\" rel=\"nofollow\" target=\"_blank\" title=\"Voir l'offre sur Amazon\">899,00 €</a>\n",
       "<input class=\"product_categorie\" type=\"hidden\" value=\"PC portable\"/>\n",
       "<input class=\"product_name\" type=\"hidden\" value=\"Lenovo Yoga 710 - 14ISK-80TY0016FR\"/>\n",
       "<input class=\"product_price\" type=\"hidden\" value=\"899.00\"/>\n",
       "<input class=\"product_offer\" type=\"hidden\" value=\"Amazon\"/>\n",
       "<input class=\"product_id\" type=\"hidden\" value=\"290820\"/>\n",
       "<div class=\"margin-top-10 font-size-12\"><span class=\"label label-warning font-size-12\">Livraison offerte</span></div>\n",
       "<div class=\"margin-top-10 font-size-14\">En stock</div>\n",
       "</div><p class=\"text-center font-size-12 margin-top-15\">Prix conseillé en décembre 2016 : 999,00€</p></div>\n",
       "</div>"
      ],
      "text/plain": [
       "<IPython.core.display.HTML object>"
      ]
     },
     "metadata": {},
     "output_type": "display_data"
    },
    {
     "name": "stdout",
     "output_type": "stream",
     "text": [
      "--------------------------------------------------\n",
      "http://www.comparez-malin.fr/informatique/pc-portable/asus-zenbook-ux410uq-gv039t.html\n",
      "Asus UX410UQ-GV039T\n"
     ]
    },
    {
     "data": {
      "text/html": [
       "<div class=\"row\">\n",
       "<div class=\"col-xs-12 col-sm-12 col-md-12 col-lg-4 text-center vertical-align-middle\">\n",
       "<div class=\"gallery\"><a href=\"http://cdn.comparez-malin.fr/img/asus/2016/58359961f84140c2678b456b/asus-zenbook-ux410ua-1.jpg?v6\" title=\"Asus ZenBook - UX410UQ-GV039T\">\n",
       "<img alt=\"Asus ZenBook - UX410UQ-GV039T\" class=\"padding-30 img-responsive\" itemprop=\"image\" src=\"http://cdn.comparez-malin.fr/img/asus/2016/58359961f84140c2678b456b/asus-zenbook-ux410ua.jpg?v6\"/>\n",
       "</a></div>\n",
       "</div>\n",
       "<div class=\"col-xs-12 col-sm-12 col-md-6 col-lg-5\"><ul class=\"list-icons padding-top-10 zmdi-hc-ul\">\n",
       "<li><i aria-hidden=\"true\" class=\"zmdi-hc-li zmdi zmdi-check\"></i> Écran de 14.0\" LCD - IPS\n",
       "(anti-reflets)</li><li><i aria-hidden=\"true\" class=\"zmdi-hc-li zmdi zmdi-check\"></i> Résolution Full HD 1920 x 1080 pixels</li><li><i aria-hidden=\"true\" class=\"zmdi-hc-li zmdi zmdi-check\"></i> Windows 10 Famille</li><li><i aria-hidden=\"true\" class=\"zmdi-hc-li zmdi zmdi-check\"></i> Intel Core i5-7200U (2 x 2.5 à 3.1 GHz)\n",
       "<li><i aria-hidden=\"true\" class=\"zmdi-hc-li zmdi zmdi-check\"></i> Nvidia GeForce 940MX</li><li>\n",
       "<i aria-hidden=\"true\" class=\"zmdi-hc-li zmdi zmdi-check\"></i> 8 Go DDR4 - 2133 MHz</li><li>\n",
       "<i aria-hidden=\"true\" class=\"zmdi-hc-li zmdi zmdi-check\"></i>1000 Go (5400 tr/min) + 128 Go (SSD)</li>\n",
       "<li><i aria-hidden=\"true\" class=\"zmdi-hc-li zmdi zmdi-plus-circle-o green-800\"></i> <a class=\"ancre\" href=\"#specs\" title=\"Caractéristiques complètes\">Voir les caractéristiques complètes</a></li>\n",
       "</li></ul></div>\n",
       "<div class=\"col-xs-12 col-sm-12 col-md-6 col-lg-3\"><div class=\"padding-20 margin-top-20 bg-green-50 text-center\">\n",
       "<h3 class=\"green-800 font-size-18 text-uppercase\"><i class=\"zmdi zmdi-trending-down\"></i> Le moins cher</h3>\n",
       "<div class=\"margin-bottom-10\"><h3>Cdiscount</h3></div>\n",
       "<a class=\"btn btn-lg btn-block btn-success price font-size-24 go\" href=\"http://www.comparez-malin.fr/go/291294\" rel=\"nofollow\" target=\"_blank\" title=\"Voir l'offre sur Cdiscount\">899,00 €</a>\n",
       "<input class=\"product_categorie\" type=\"hidden\" value=\"PC portable\"/>\n",
       "<input class=\"product_name\" type=\"hidden\" value=\"Asus ZenBook - UX410UQ-GV039T\"/>\n",
       "<input class=\"product_price\" type=\"hidden\" value=\"899.00\"/>\n",
       "<input class=\"product_offer\" type=\"hidden\" value=\"Cdiscount\"/>\n",
       "<input class=\"product_id\" type=\"hidden\" value=\"291294\"/>\n",
       "<div class=\"margin-top-10 font-size-12\"><span class=\"label label-warning font-size-12\">Livraison offerte</span></div>\n",
       "<div class=\"margin-top-10 font-size-14\">En stock</div>\n",
       "</div><p class=\"text-center font-size-12 margin-top-15\">Prix conseillé en décembre 2016 : 899,00€</p></div>\n",
       "</div>"
      ],
      "text/plain": [
       "<IPython.core.display.HTML object>"
      ]
     },
     "metadata": {},
     "output_type": "display_data"
    }
   ],
   "source": [
    "# Display n top ranked computer web pages\n",
    "n = 5\n",
    "for i, (index, row) in enumerate(df.iterrows()):\n",
    "    print(\"-\" * 50)\n",
    "    print(row[\"url\"])\n",
    "    print(\"{} {}\".format(row[\"marque\"], row[\"référence\"]))\n",
    "    # print_score(df_score.loc[index])\n",
    "    display_laptop(row[\"url\"])\n",
    "    if i >= (n-1):\n",
    "        break"
   ]
  }
 ],
 "metadata": {
  "kernelspec": {
   "display_name": "Python 3",
   "language": "python",
   "name": "python3"
  },
  "language_info": {
   "codemirror_mode": {
    "name": "ipython",
    "version": 3
   },
   "file_extension": ".py",
   "mimetype": "text/x-python",
   "name": "python",
   "nbconvert_exporter": "python",
   "pygments_lexer": "ipython3",
   "version": "3.5.2"
  },
  "widgets": {
   "state": {
    "91a7997c4576481bb6fea8c09cffdad0": {
     "views": [
      {
       "cell_index": 10
      }
     ]
    }
   },
   "version": "1.2.0"
  }
 },
 "nbformat": 4,
 "nbformat_minor": 1
}
