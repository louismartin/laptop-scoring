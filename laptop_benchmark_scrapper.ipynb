{
 "cells": [
  {
   "cell_type": "code",
   "execution_count": null,
   "metadata": {
    "collapsed": false
   },
   "outputs": [],
   "source": [
    "from urllib.request import urlopen\n",
    "from urllib.parse import urljoin\n",
    "import time\n",
    "\n",
    "from tqdm import tqdm\n",
    "from bs4 import BeautifulSoup\n",
    "import pandas as pd"
   ]
  },
  {
   "cell_type": "code",
   "execution_count": null,
   "metadata": {
    "collapsed": false
   },
   "outputs": [],
   "source": [
    "def get_specs(url):\n",
    "    \"\"\"Return specs as a dictionary\"\"\"\n",
    "    html_doc = urlopen(url).read()\n",
    "    soup = BeautifulSoup(html_doc, \"html.parser\")\n",
    "    soup = soup.find(\"div\", {\"id\": \"specs\"})\n",
    "    specs = {}\n",
    "    for spec in soup.find_all(\"tr\"):\n",
    "        key = spec.find(\"th\", {\"scope\": \"row\"})\n",
    "        if key:\n",
    "            key = key.text\n",
    "            value = spec.find(\"td\").text.replace('\\n', '')\n",
    "            specs[key] = value\n",
    "    return specs\n",
    "\n",
    "def get_laptop_urls_in_page(page_url):\n",
    "    root_url = \"http://www.comparez-malin.fr/informatique/pc-portable/\"\n",
    "    html_doc = urlopen(page_url).read()\n",
    "    soup = BeautifulSoup(html_doc, \"html.parser\")\n",
    "    laptop_blocks = soup.find_all(\"div\", {\"class\": \"product\"})\n",
    "    specs_urls = {}\n",
    "    for block in laptop_blocks:\n",
    "        try:\n",
    "            key = block[\"id\"]\n",
    "            url = block.find(\"a\", {\"class\": \"white\"})[\"href\"]\n",
    "            url = urljoin(root_url, url.split('/')[-1])\n",
    "            specs_urls[key] = url\n",
    "        except KeyError:\n",
    "            pass\n",
    "    return specs_urls"
   ]
  },
  {
   "cell_type": "code",
   "execution_count": null,
   "metadata": {
    "collapsed": false
   },
   "outputs": [],
   "source": [
    "url = \"http://www.comparez-malin.fr/informatique/pc-portable/asus-zenbook-ux305ca-fc057t.html\"\n",
    "n = 5\n",
    "df = pd.DataFrame(index=range(n))\n",
    "tic = time.time()\n",
    "for i in tqdm(range(n)):\n",
    "    specs = get_specs(url)\n",
    "    df = df.append(specs, ignore_index=True)\n",
    "print(\"Elpased time: {0:.2f}\".format(time.time()-tic))"
   ]
  },
  {
   "cell_type": "code",
   "execution_count": null,
   "metadata": {
    "collapsed": false
   },
   "outputs": [],
   "source": [
    "root_url = \"http://www.comparez-malin.fr/informatique/pc-portable/{}\"\n",
    "n = 265\n",
    "specs_urls = {}\n",
    "for i in tqdm(range(n)):\n",
    "    page_url = root_url.format(i+1)\n",
    "    specs_urls.update(get_laptop_urls_in_page(page_url))"
   ]
  },
  {
   "cell_type": "code",
   "execution_count": null,
   "metadata": {
    "collapsed": false
   },
   "outputs": [],
   "source": [
    "# Convert urls to dataframe\n",
    "s = pd.Series(specs_urls, name='url')\n",
    "df = s.to_frame()\n",
    "df.to_csv('data/specs_urls.csv')"
   ]
  }
 ],
 "metadata": {
  "kernelspec": {
   "display_name": "Python 3",
   "language": "python",
   "name": "python3"
  },
  "language_info": {
   "codemirror_mode": {
    "name": "ipython",
    "version": 3
   },
   "file_extension": ".py",
   "mimetype": "text/x-python",
   "name": "python",
   "nbconvert_exporter": "python",
   "pygments_lexer": "ipython3",
   "version": "3.5.2"
  }
 },
 "nbformat": 4,
 "nbformat_minor": 1
}
