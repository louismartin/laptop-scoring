{
 "cells": [
  {
   "cell_type": "markdown",
   "metadata": {},
   "source": [
    "# Laptop specifications scrapper\n",
    "Scrap comparez-malin.com for laptop specification"
   ]
  },
  {
   "cell_type": "code",
   "execution_count": 1,
   "metadata": {
    "collapsed": false
   },
   "outputs": [],
   "source": [
    "%load_ext autoreload\n",
    "%autoreload 2\n",
    "%matplotlib inline\n",
    "\n",
    "from tqdm import tqdm\n",
    "from bs4 import BeautifulSoup\n",
    "import pandas as pd\n",
    "import qgrid\n",
    "import matplotlib.pyplot as plt\n",
    "import numpy as np\n",
    "import seaborn as sns\n",
    "\n",
    "from laptop_scoring import scrapping\n",
    "from laptop_scoring.processing import get_min_price, process_and_clean\n",
    "from laptop_scoring.utils import scale, ease, display_laptop, print_score\n",
    "\n",
    "sns.set_style(\"darkgrid\")"
   ]
  },
  {
   "cell_type": "markdown",
   "metadata": {},
   "source": [
    "## Get all specs needed"
   ]
  },
  {
   "cell_type": "code",
   "execution_count": 2,
   "metadata": {
    "collapsed": false
   },
   "outputs": [
    {
     "name": "stdout",
     "output_type": "stream",
     "text": [
      "Reading dataframe from data/get_laptops_urls.csv\n",
      "Reading dataframe from data/get_all_laptops_specs.csv\n",
      "Reading dataframe from data/get_cpu_dataframe.csv\n",
      "Reading dataframe from data/get_gpu_dataframe.csv\n"
     ]
    }
   ],
   "source": [
    "overwrite = False  # Wether to redownload everything or read stored dataframes\n",
    "\n",
    "# Get links to each laptop page in a  dataframe\n",
    "df_urls = scrapping.get_laptops_urls(overwrite=overwrite)\n",
    "df_urls[\"prix_min\"] = get_min_price(df_urls)\n",
    "\n",
    "# Get specs for all laptops\n",
    "df = scrapping.get_all_laptops_specs(df_urls, overwrite=overwrite)\n",
    "df.columns = df.columns.str.lower().str.replace(\" \", \"_\").str.replace(\".\", \"\").str.replace(\"(\", \"\").str.replace(\")\", \"\")\n",
    "\n",
    "# Get CPU and GPU benchmarks\n",
    "df_cpu = scrapping.get_cpu_dataframe(df[\"processeur\"].unique(), overwrite=overwrite)\n",
    "df = df.reset_index().merge(df_cpu, on=\"processeur\", how=\"left\").set_index(\"index\")\n",
    "\n",
    "df_gpu = scrapping.get_gpu_dataframe(df[\"puce_graphique_dédiée\"].unique(), overwrite=overwrite)\n",
    "df = df.reset_index().merge(df_gpu, on=\"puce_graphique_dédiée\", how=\"left\").set_index(\"index\")\n",
    "\n",
    "# Processing and cleaning\n",
    "df = process_and_clean(df)\n",
    "df_ori = df.copy()"
   ]
  },
  {
   "cell_type": "markdown",
   "metadata": {},
   "source": [
    "## Scoring"
   ]
  },
  {
   "cell_type": "code",
   "execution_count": 3,
   "metadata": {
    "collapsed": false
   },
   "outputs": [
    {
     "name": "stderr",
     "output_type": "stream",
     "text": [
      "100%|██████████| 20/20 [00:00<00:00, 260.84it/s]\n"
     ]
    }
   ],
   "source": [
    "df = df_ori.copy()\n",
    "\n",
    "# Wether to use official price (might not be available) or current price\n",
    "#prix = \"prix_public\"\n",
    "prix = \"prix\"\n",
    "if prix == \"prix\":\n",
    "    # Remove laptops with no current price (often because unavailable)\n",
    "    df = df[(df[\"prix\"]!=0)]\n",
    "\n",
    "# Adjust the coefficients to your liking !\n",
    "# List of tuples: (col_name, method, do_scale)\n",
    "scoring_methods = [\n",
    "    (prix, lambda x: -x * 4, True),\n",
    "    (\"single_core_benchmark\", lambda x: x * 0.6, True),\n",
    "    (\"coeurs\", lambda x: x * 0.5, True),\n",
    "    (\"mémoire_ram\", lambda x: x * 0.4, True),\n",
    "    (\"gpu_benchmark\", lambda x: ease(x, method=\"log\", asymetric=True) * 1, True),\n",
    "    (\"min_freq\", lambda x: x * 0.2, True),\n",
    "    (\"max_freq\", lambda x: x * 0.2, True),\n",
    "    (\"pdt_max\", lambda x: x * -0.15, True),\n",
    "    (\"hdd_speed\", lambda x: (x==7200) * 0.1, False),\n",
    "    (\"sshd\", lambda x: x * 0.2, False),\n",
    "    (\"ssd_size\", lambda x: ((x>0) + ease(x))/2 * 0.3, True),\n",
    "    (\"poids\", lambda x: x * -0.5, True),\n",
    "    (\"height\", lambda x: -x * 0.7, True),\n",
    "    (\"taille\", lambda x: (x>15.6 or x<13.3) * -3 + (x<14) * -2, False),\n",
    "    (\"screen_to_body\", lambda x: x * 0.5, True),\n",
    "    (\"res_width\", lambda x: (x<1920) * -2 + (x>1920) * 0.3 , False),\n",
    "    (\"composition\",\n",
    "     lambda x: (\n",
    "            ((\"Aluminium\" in x) or (\"Métal\" in x)) * 0.4\n",
    "           + (\"Plastique\" in x) * -0.4\n",
    "        ) , False),\n",
    "    (\"type_c\",\n",
    "     lambda x: (\n",
    "            (\"Gen 1\" in x) * 0.1\n",
    "          + (\"Gen 2\" in x) * 0.2\n",
    "          + (\"Thunderbolt\" in x) * 0.2\n",
    "          + (\"Charging\" in x) * 0.2\n",
    "        ), False),\n",
    "    (\"marque\", lambda x: (x==\"Acer\") * -0.5 + (x==\"MSI\") * -0.5, False),  # Acer is not good quality and MSI are ugly\n",
    "    (\"url\", lambda x: (\"rog\" in x) * -0.5, False)  # Asus ROG are ugly\n",
    "]\n",
    "\n",
    "df_score = pd.DataFrame(index=df.index, columns=[\"score\"])\n",
    "\n",
    "\n",
    "# Generic methods that take one column as input\n",
    "# and output its associated score\n",
    "for (col_name, method, do_scale) in tqdm(scoring_methods):\n",
    "    col = df[col_name]\n",
    "    if do_scale:\n",
    "        col = scale(col)\n",
    "    df_score[col_name] = col.apply(method)\n",
    "\n",
    "# Compute total score\n",
    "df_score = df_score.fillna(0)\n",
    "df_score[\"total\"] = df_score.drop([\"score\"], axis=1).sum(axis=1)\n",
    "max_score = df_score[\"total\"].max()\n",
    "min_score = df_score[\"total\"].min()\n",
    "df_score[\"score\"] = (df_score[\"total\"] - min_score)/(max_score - min_score)\n",
    "df[\"score\"] = df_score[\"score\"]\n",
    "df = df.sort_values(by=\"score\", ascending=False)\n",
    "df_score = df_score.loc[df.index]"
   ]
  },
  {
   "cell_type": "code",
   "execution_count": 4,
   "metadata": {
    "collapsed": false
   },
   "outputs": [
    {
     "data": {
      "image/png": "[encoded data removed]",
      "text/plain": [
       "<matplotlib.figure.Figure at 0x7f843d5708d0>"
      ]
     },
     "metadata": {},
     "output_type": "display_data"
    }
   ],
   "source": [
    "plt.hist(df[\"prix\"].as_matrix(), bins=[i*100 for i in range(30)])\n",
    "plt.title(\"Price repartition for {} laptops\".format(df.shape[0]))\n",
    "plt.xlabel(\"Price €\")\n",
    "plt.show()"
   ]
  },
  {
   "cell_type": "markdown",
   "metadata": {},
   "source": [
    "## Filtering"
   ]
  },
  {
   "cell_type": "code",
   "execution_count": 5,
   "metadata": {
    "collapsed": false
   },
   "outputs": [],
   "source": [
    "# Keep only computers that fit your needs\n",
    "#df = df[df[\"gpu_benchmark\"]>500]  # At least a GTX 920M\n",
    "df = df[df[\"gpu_benchmark\"]>1500]  # At least a GTX 950M\n",
    "df = df[df[\"cpu_benchmark\"]>3000]  # At least a i5-4210U\n",
    "df = df[(df[\"taille\"]>=13.3) & (df[\"taille\"]<=15.6)]\n",
    "df = df[df[\"res_width\"]>=1920]\n",
    "#df = df[df[\"marque\"]!=\"MSI\"]\n",
    "#df = df[df[\"url\"].apply(lambda x: \"rog\" not in x)]\n",
    "#df = df[df[\"marque\"]==\"Asus\"]\n",
    "#df = df[df[\"url\"].apply(lambda x: \"rog\" not in x)]\n",
    "#df = df[df[\"référence\"].apply(lambda x: \"UX\" in x)]"
   ]
  },
  {
   "cell_type": "markdown",
   "metadata": {},
   "source": [
    "## Display results"
   ]
  },
  {
   "cell_type": "code",
   "execution_count": 6,
   "metadata": {
    "collapsed": false
   },
   "outputs": [],
   "source": [
    "#qgrid.set_defaults(grid_options={'forceFitColumns': False})#, 'defaultColumnWidth': 200})\n",
    "cols_to_show = \"url score marque référence processeur puce_graphique_dédiée mémoire_ram ssd_size taille res_width prix\".split()\n",
    "#height single_core_benchmark coeurs cpu_benchmark gpu_benchmark min_freq max_freq pdt_max hdd_speed sshd prix_public\n",
    "qgrid.show_grid(df[cols_to_show])\n",
    "#df_score.head()"
   ]
  },
  {
   "cell_type": "code",
   "execution_count": 7,
   "metadata": {
    "collapsed": false
   },
   "outputs": [
    {
     "name": "stdout",
     "output_type": "stream",
     "text": [
      "--------------------------------------------------\n",
      "http://www.comparez-malin.fr/informatique/pc-portable/hp-pavilion-15-bc012nf.html\n",
      "HP Y0V60EA#ABF\n",
      "total: 3.06 - prix: 2.11\n",
      "coeur: 0.65 / singl: 0.23 / scree: 0.22 / min_f: 0.15 / max_f: 0.15 / hdd_s: 0.10 / heigh: 0.08 / gpu_b: 0.05\n",
      "compo: -0.40 / pdt_m: -0.21 / ssd_s: -0.05 / mémoi: -0.01 / \n"
     ]
    },
    {
     "data": {
      "text/html": [
       "<div class=\"row\">\n",
       "<div class=\"col-xs-12 col-sm-12 col-md-12 col-lg-4 text-center vertical-align-middle\">\n",
       "<div class=\"gallery\"><a href=\"http://cdn.comparez-malin.fr/img/hp/2016/5784e8700a086d681b8b4567/hp-pavilion-15-2016-silver-1.jpg?v6\" title=\"HP Pavilion 15-bc012nf\">\n",
       "<img alt=\"HP Pavilion 15-bc012nf\" class=\"padding-30 img-responsive\" itemprop=\"image\" src=\"http://cdn.comparez-malin.fr/img/hp/2016/5784e8700a086d681b8b4567/hp-pavilion-15-2016-silver.jpg?v6\"/>\n",
       "</a></div>\n",
       "</div>\n",
       "<div class=\"col-xs-12 col-sm-12 col-md-6 col-lg-5\"><ul class=\"list-icons padding-top-10 zmdi-hc-ul\">\n",
       "<li><i aria-hidden=\"true\" class=\"zmdi-hc-li zmdi zmdi-check\"></i> Écran de 15.6\" LCD - IPS\n",
       "(anti-reflets)</li><li><i aria-hidden=\"true\" class=\"zmdi-hc-li zmdi zmdi-check\"></i> Résolution Full HD 1920 x 1080 pixels</li><li><i aria-hidden=\"true\" class=\"zmdi-hc-li zmdi zmdi-check\"></i> Windows 10 Famille</li><li><i aria-hidden=\"true\" class=\"zmdi-hc-li zmdi zmdi-check\"></i> Intel Core i7-6700HQ (4 x 2.6 à 3.5 GHz)\n",
       "<li><i aria-hidden=\"true\" class=\"zmdi-hc-li zmdi zmdi-check\"></i> Nvidia GeForce GTX 950M</li><li>\n",
       "<i aria-hidden=\"true\" class=\"zmdi-hc-li zmdi zmdi-check\"></i> 8 Go DDR4 - 2133 MHz</li><li>\n",
       "<i aria-hidden=\"true\" class=\"zmdi-hc-li zmdi zmdi-check\"></i>1000 Go (7200 tr/min) + 128 Go (SSD)</li>\n",
       "<li><i aria-hidden=\"true\" class=\"zmdi-hc-li zmdi zmdi-plus-circle-o green-800\"></i> <a class=\"ancre\" href=\"#specs\" title=\"Caractéristiques complètes\">Voir les caractéristiques complètes</a></li>\n",
       "</li></ul></div>\n",
       "<div class=\"col-xs-12 col-sm-12 col-md-6 col-lg-3\"><div class=\"padding-20 margin-top-20 bg-green-50 text-center\">\n",
       "<h3 class=\"green-800 font-size-18 text-uppercase\"><i class=\"zmdi zmdi-trending-down\"></i> Le moins cher</h3>\n",
       "<div class=\"margin-bottom-10\"><h3>Price Minister</h3></div>\n",
       "<a class=\"btn btn-lg btn-block btn-success price font-size-24 go\" href=\"http://www.comparez-malin.fr/go/291985\" rel=\"nofollow\" target=\"_blank\" title=\"Voir l'offre sur Price Minister\">695,00 €</a>\n",
       "<input class=\"product_categorie\" type=\"hidden\" value=\"PC portable\"/>\n",
       "<input class=\"product_name\" type=\"hidden\" value=\"HP Pavilion 15-bc012nf\"/>\n",
       "<input class=\"product_price\" type=\"hidden\" value=\"695.00\"/>\n",
       "<input class=\"product_offer\" type=\"hidden\" value=\"Price Minister\"/>\n",
       "<input class=\"product_id\" type=\"hidden\" value=\"291985\"/>\n",
       "<div class=\"margin-top-10 font-size-12\">+ 10,90€ de livraison</div>\n",
       "<div class=\"margin-top-10 font-size-14\">En stock</div>\n",
       "</div><p class=\"text-center font-size-12 margin-top-15\">Prix conseillé en août 2016 : 1 049,00€</p></div>\n",
       "</div>"
      ],
      "text/plain": [
       "<IPython.core.display.HTML object>"
      ]
     },
     "metadata": {},
     "output_type": "display_data"
    },
    {
     "name": "stdout",
     "output_type": "stream",
     "text": [
      "--------------------------------------------------\n",
      "http://www.comparez-malin.fr/informatique/pc-portable/hp-omen-15-ax050nf.html\n",
      "HP 1HF07EA#ABF\n",
      "total: 2.85 - prix: 2.66\n",
      "coeur: 0.65 / scree: 0.22 / gpu_b: 0.12 / hdd_s: 0.10 / max_f: 0.10 / heigh: 0.08 / poids: 0.01 / \n",
      "compo: -0.40 / singl: -0.32 / pdt_m: -0.21 / ssd_s: -0.14 / mémoi: -0.01 / min_f: -0.00 / \n"
     ]
    },
    {
     "data": {
      "text/html": [
       "<div class=\"row\">\n",
       "<div class=\"col-xs-12 col-sm-12 col-md-12 col-lg-4 text-center vertical-align-middle\">\n",
       "<div class=\"gallery\"><a href=\"http://cdn.comparez-malin.fr/img/hp/2017/58934014f841404c658b456f/hp-omen-15-2016-1.jpg?v6\" title=\"HP Omen 15-ax050nf\">\n",
       "<img alt=\"HP Omen 15-ax050nf\" class=\"padding-30 img-responsive\" itemprop=\"image\" src=\"http://cdn.comparez-malin.fr/img/hp/2017/58934014f841404c658b456f/hp-omen-15-2016.jpg?v6\"/>\n",
       "</a></div>\n",
       "</div>\n",
       "<div class=\"col-xs-12 col-sm-12 col-md-6 col-lg-5\"><ul class=\"list-icons padding-top-10 zmdi-hc-ul\">\n",
       "<li><i aria-hidden=\"true\" class=\"zmdi-hc-li zmdi zmdi-check\"></i> Écran de 15.6\" LCD - IPS\n",
       "(anti-reflets)</li><li><i aria-hidden=\"true\" class=\"zmdi-hc-li zmdi zmdi-check\"></i> Résolution Full HD 1920 x 1080 pixels</li><li><i aria-hidden=\"true\" class=\"zmdi-hc-li zmdi zmdi-check\"></i> FreeDOS 1.1</li><li><i aria-hidden=\"true\" class=\"zmdi-hc-li zmdi zmdi-check\"></i> Intel Core i5-6300HQ (4 x 2.3 à 3.2 GHz)\n",
       "<li><i aria-hidden=\"true\" class=\"zmdi-hc-li zmdi zmdi-check\"></i> Nvidia GeForce GTX 960M\t</li><li>\n",
       "<i aria-hidden=\"true\" class=\"zmdi-hc-li zmdi zmdi-check\"></i> 8 Go DDR4 - 2133 MHz</li><li>\n",
       "<i aria-hidden=\"true\" class=\"zmdi-hc-li zmdi zmdi-check\"></i>1000 Go (7200 tr/min)</li>\n",
       "<li><i aria-hidden=\"true\" class=\"zmdi-hc-li zmdi zmdi-plus-circle-o green-800\"></i> <a class=\"ancre\" href=\"#specs\" title=\"Caractéristiques complètes\">Voir les caractéristiques complètes</a></li>\n",
       "</li></ul></div>\n",
       "<div class=\"col-xs-12 col-sm-12 col-md-6 col-lg-3\"><div class=\"padding-20 margin-top-20 bg-green-50 text-center\">\n",
       "<h3 class=\"green-800 font-size-18 text-uppercase\"><i class=\"zmdi zmdi-trending-down\"></i> Le moins cher</h3>\n",
       "<div class=\"margin-bottom-10\"><h3>Cdiscount</h3></div>\n",
       "<a class=\"btn btn-lg btn-block btn-success price font-size-24 go\" href=\"http://www.comparez-malin.fr/go/294299\" rel=\"nofollow\" target=\"_blank\" title=\"Voir l'offre sur Cdiscount\">599,99 €</a>\n",
       "<input class=\"product_categorie\" type=\"hidden\" value=\"PC portable\"/>\n",
       "<input class=\"product_name\" type=\"hidden\" value=\"HP Omen 15-ax050nf\"/>\n",
       "<input class=\"product_price\" type=\"hidden\" value=\"599.99\"/>\n",
       "<input class=\"product_offer\" type=\"hidden\" value=\"Cdiscount\"/>\n",
       "<input class=\"product_id\" type=\"hidden\" value=\"294299\"/>\n",
       "<div class=\"margin-top-10 font-size-12\"><span class=\"label label-warning font-size-12\">Livraison offerte</span></div>\n",
       "<div class=\"margin-top-10 font-size-14\">En stock</div>\n",
       "</div><p class=\"text-center font-size-12 margin-top-15\">Prix conseillé en février 2017 : 629,00€</p></div>\n",
       "</div>"
      ],
      "text/plain": [
       "<IPython.core.display.HTML object>"
      ]
     },
     "metadata": {},
     "output_type": "display_data"
    },
    {
     "name": "stdout",
     "output_type": "stream",
     "text": [
      "--------------------------------------------------\n",
      "http://www.comparez-malin.fr/informatique/pc-portable/acer-aspire-e5-575g-543v.html\n",
      "Acer NX.GDZEF.014\n",
      "total: 2.61 - prix: 2.66\n",
      "singl: 0.57 / compo: 0.40 / min_f: 0.10 / type_: 0.10 / pdt_m: 0.08 / max_f: 0.08 / gpu_b: 0.05 / scree: 0.02\n",
      "marqu: -0.50 / heigh: -0.41 / coeur: -0.39 / ssd_s: -0.14 / poids: -0.01 / mémoi: -0.01 / \n"
     ]
    },
    {
     "data": {
      "text/html": [
       "<div class=\"row\">\n",
       "<div class=\"col-xs-12 col-sm-12 col-md-12 col-lg-4 text-center vertical-align-middle\">\n",
       "<div class=\"gallery\"><a href=\"http://cdn.comparez-malin.fr/img/acer/2016/57fd1dc1f8414013748b4568/acer-aspire-e5-575-noir-1.jpg?v6\" title=\"Acer Aspire E5-575G-543V\">\n",
       "<img alt=\"Acer Aspire E5-575G-543V\" class=\"padding-30 img-responsive\" itemprop=\"image\" src=\"http://cdn.comparez-malin.fr/img/acer/2016/57fd1dc1f8414013748b4568/acer-aspire-e5-575-noir.jpg?v6\"/>\n",
       "</a></div>\n",
       "</div>\n",
       "<div class=\"col-xs-12 col-sm-12 col-md-6 col-lg-5\"><ul class=\"list-icons padding-top-10 zmdi-hc-ul\">\n",
       "<li><i aria-hidden=\"true\" class=\"zmdi-hc-li zmdi zmdi-check\"></i> Écran de 15.6\" LCD - TN\n",
       "(anti-reflets)</li><li><i aria-hidden=\"true\" class=\"zmdi-hc-li zmdi zmdi-check\"></i> Résolution Full HD 1920 x 1080 pixels</li><li><i aria-hidden=\"true\" class=\"zmdi-hc-li zmdi zmdi-check\"></i> Windows 10 Famille</li><li><i aria-hidden=\"true\" class=\"zmdi-hc-li zmdi zmdi-check\"></i> Intel Core i5-7200U (2 x 2.5 à 3.1 GHz)\n",
       "<li><i aria-hidden=\"true\" class=\"zmdi-hc-li zmdi zmdi-check\"></i> Nvidia GeForce GTX 950M</li><li>\n",
       "<i aria-hidden=\"true\" class=\"zmdi-hc-li zmdi zmdi-check\"></i> 8 Go DDR4 - 2133 MHz</li><li>\n",
       "<i aria-hidden=\"true\" class=\"zmdi-hc-li zmdi zmdi-check\"></i>1000 Go (5400 tr/min)</li>\n",
       "<li><i aria-hidden=\"true\" class=\"zmdi-hc-li zmdi zmdi-plus-circle-o green-800\"></i> <a class=\"ancre\" href=\"#specs\" title=\"Caractéristiques complètes\">Voir les caractéristiques complètes</a></li>\n",
       "</li></ul></div>\n",
       "<div class=\"col-xs-12 col-sm-12 col-md-6 col-lg-3\"><div class=\"padding-20 margin-top-20 bg-green-50 text-center\">\n",
       "<h3 class=\"green-800 font-size-18 text-uppercase\"><i class=\"zmdi zmdi-trending-down\"></i> Le moins cher</h3>\n",
       "<div class=\"margin-bottom-10\"><h3>Amazon</h3></div>\n",
       "<a class=\"btn btn-lg btn-block btn-success price font-size-24 go\" href=\"http://www.comparez-malin.fr/go/293688\" rel=\"nofollow\" target=\"_blank\" title=\"Voir l'offre sur Amazon\">599,99 €</a>\n",
       "<input class=\"product_categorie\" type=\"hidden\" value=\"PC portable\"/>\n",
       "<input class=\"product_name\" type=\"hidden\" value=\"Acer Aspire E5-575G-543V\"/>\n",
       "<input class=\"product_price\" type=\"hidden\" value=\"599.99\"/>\n",
       "<input class=\"product_offer\" type=\"hidden\" value=\"Amazon\"/>\n",
       "<input class=\"product_id\" type=\"hidden\" value=\"293688\"/>\n",
       "<div class=\"margin-top-10 font-size-12\"><span class=\"label label-warning font-size-12\">Livraison offerte</span></div>\n",
       "<div class=\"margin-top-10 font-size-14\">Prochainement disponible</div>\n",
       "</div><p class=\"text-center font-size-12 margin-top-15\">Prix conseillé en octobre 2016 : 799,00€</p></div>\n",
       "</div>"
      ],
      "text/plain": [
       "<IPython.core.display.HTML object>"
      ]
     },
     "metadata": {},
     "output_type": "display_data"
    },
    {
     "name": "stdout",
     "output_type": "stream",
     "text": [
      "--------------------------------------------------\n",
      "http://www.comparez-malin.fr/informatique/pc-portable/asus-zenbook-ux510uw-dm088t.html\n",
      "Asus UX510UW-DM088T\n",
      "total: 2.56 - prix: 0.44\n",
      "singl: 0.83 / heigh: 0.47 / compo: 0.40 / min_f: 0.20 / scree: 0.15 / max_f: 0.15 / poids: 0.14 / gpu_b: 0.12\n",
      "coeur: -0.39 / ssd_s: -0.14 / mémoi: -0.01 / \n"
     ]
    },
    {
     "data": {
      "text/html": [
       "<div class=\"row\">\n",
       "<div class=\"col-xs-12 col-sm-12 col-md-12 col-lg-4 text-center vertical-align-middle\">\n",
       "<div class=\"gallery\"><a href=\"http://cdn.comparez-malin.fr/img/asus/2016/58359aa5f841400b578b456c/asus-zenbook-ux510-gris-1.jpg?v6\" title=\"Asus Zenbook - UX510UW-DM088T\">\n",
       "<img alt=\"Asus Zenbook - UX510UW-DM088T\" class=\"padding-30 img-responsive\" itemprop=\"image\" src=\"http://cdn.comparez-malin.fr/img/asus/2016/58359aa5f841400b578b456c/asus-zenbook-ux510-gris.jpg?v6\"/>\n",
       "</a></div>\n",
       "</div>\n",
       "<div class=\"col-xs-12 col-sm-12 col-md-6 col-lg-5\"><ul class=\"list-icons padding-top-10 zmdi-hc-ul\">\n",
       "<li><i aria-hidden=\"true\" class=\"zmdi-hc-li zmdi zmdi-check\"></i> Écran de 15.6\" LCD - TN\n",
       "(anti-reflets)</li><li><i aria-hidden=\"true\" class=\"zmdi-hc-li zmdi zmdi-check\"></i> Résolution Full HD 1920 x 1080 pixels</li><li><i aria-hidden=\"true\" class=\"zmdi-hc-li zmdi zmdi-check\"></i> Windows 10 Famille</li><li><i aria-hidden=\"true\" class=\"zmdi-hc-li zmdi zmdi-check\"></i> Intel Core i7-7500U (2 x 2.7 à 3.5 GHz)\n",
       "<li><i aria-hidden=\"true\" class=\"zmdi-hc-li zmdi zmdi-check\"></i> Nvidia GeForce GTX 960M\t</li><li>\n",
       "<i aria-hidden=\"true\" class=\"zmdi-hc-li zmdi zmdi-check\"></i> 8 Go DDR4 - 2133 MHz</li><li>\n",
       "<i aria-hidden=\"true\" class=\"zmdi-hc-li zmdi zmdi-check\"></i>1000 Go (5400 tr/min)</li>\n",
       "<li><i aria-hidden=\"true\" class=\"zmdi-hc-li zmdi zmdi-plus-circle-o green-800\"></i> <a class=\"ancre\" href=\"#specs\" title=\"Caractéristiques complètes\">Voir les caractéristiques complètes</a></li>\n",
       "</li></ul></div>\n",
       "<div class=\"col-xs-12 col-sm-12 col-md-6 col-lg-3\"><div class=\"padding-20 margin-top-20 bg-green-50 text-center\">\n",
       "<h3 class=\"green-800 font-size-18 text-uppercase\"><i class=\"zmdi zmdi-trending-down\"></i> Le moins cher</h3>\n",
       "<div class=\"margin-bottom-10\"><h3>Webdistrib</h3></div>\n",
       "<a class=\"btn btn-lg btn-block btn-success price font-size-24 go\" href=\"http://www.comparez-malin.fr/go/289280\" rel=\"nofollow\" target=\"_blank\" title=\"Voir l'offre sur Webdistrib\">983,09 €</a>\n",
       "<input class=\"product_categorie\" type=\"hidden\" value=\"PC portable\"/>\n",
       "<input class=\"product_name\" type=\"hidden\" value=\"Asus Zenbook - UX510UW-DM088T\"/>\n",
       "<input class=\"product_price\" type=\"hidden\" value=\"983.09\"/>\n",
       "<input class=\"product_offer\" type=\"hidden\" value=\"Webdistrib\"/>\n",
       "<input class=\"product_id\" type=\"hidden\" value=\"289280\"/>\n",
       "<div class=\"margin-top-10 font-size-12\">+ 5,99€ de livraison</div>\n",
       "<div class=\"margin-top-10 font-size-14\">En stock</div>\n",
       "</div><p class=\"text-center font-size-12 margin-top-15\">Prix conseillé en novembre 2016 : 999,00€</p></div>\n",
       "</div>"
      ],
      "text/plain": [
       "<IPython.core.display.HTML object>"
      ]
     },
     "metadata": {},
     "output_type": "display_data"
    },
    {
     "name": "stdout",
     "output_type": "stream",
     "text": [
      "--------------------------------------------------\n",
      "http://www.comparez-malin.fr/informatique/pc-portable/hp-pavilion-15-bc202nf.html\n",
      "HP 1GP44EA#ABF\n",
      "total: 2.56 - prix: 0.93\n",
      "gpu_b: 0.67 / coeur: 0.65 / mémoi: 0.54 / scree: 0.22 / max_f: 0.15 / min_f: 0.10 / hdd_s: 0.10 / heigh: 0.08\n",
      "compo: -0.40 / singl: -0.22 / pdt_m: -0.21 / ssd_s: -0.05 / \n"
     ]
    },
    {
     "data": {
      "text/html": [
       "<div class=\"row\">\n",
       "<div class=\"col-xs-12 col-sm-12 col-md-12 col-lg-4 text-center vertical-align-middle\">\n",
       "<div class=\"gallery\"><a href=\"http://cdn.comparez-malin.fr/img/hp/2017/5891ec02f841404a658b4568/hp-pavilion-15-2016-silver-1.jpg?v6\" title=\"HP Pavilion 15-bc202nf\">\n",
       "<img alt=\"HP Pavilion 15-bc202nf\" class=\"padding-30 img-responsive\" itemprop=\"image\" src=\"http://cdn.comparez-malin.fr/img/hp/2017/5891ec02f841404a658b4568/hp-pavilion-15-2016-silver.jpg?v6\"/>\n",
       "</a></div>\n",
       "</div>\n",
       "<div class=\"col-xs-12 col-sm-12 col-md-6 col-lg-5\"><ul class=\"list-icons padding-top-10 zmdi-hc-ul\">\n",
       "<li><i aria-hidden=\"true\" class=\"zmdi-hc-li zmdi zmdi-check\"></i> Écran de 15.6\" LCD - IPS\n",
       "(anti-reflets)</li><li><i aria-hidden=\"true\" class=\"zmdi-hc-li zmdi zmdi-check\"></i> Résolution Full HD 1920 x 1080 pixels</li><li><i aria-hidden=\"true\" class=\"zmdi-hc-li zmdi zmdi-check\"></i> Windows 10 Famille</li><li><i aria-hidden=\"true\" class=\"zmdi-hc-li zmdi zmdi-check\"></i> Intel Core i5-7300HQ (4 x 2.5 à 3.5 GHz)\n",
       "<li><i aria-hidden=\"true\" class=\"zmdi-hc-li zmdi zmdi-check\"></i> Nvidia GeForce GTX 1050</li><li>\n",
       "<i aria-hidden=\"true\" class=\"zmdi-hc-li zmdi zmdi-check\"></i> 16 Go DDR4 - 2133 MHz</li><li>\n",
       "<i aria-hidden=\"true\" class=\"zmdi-hc-li zmdi zmdi-check\"></i>1000 Go (7200 tr/min) + 128 Go (SSD)</li>\n",
       "<li><i aria-hidden=\"true\" class=\"zmdi-hc-li zmdi zmdi-plus-circle-o green-800\"></i> <a class=\"ancre\" href=\"#specs\" title=\"Caractéristiques complètes\">Voir les caractéristiques complètes</a></li>\n",
       "</li></ul></div>\n",
       "<div class=\"col-xs-12 col-sm-12 col-md-6 col-lg-3\"><div class=\"padding-20 margin-top-20 bg-green-50 text-center\">\n",
       "<h3 class=\"green-800 font-size-18 text-uppercase\"><i class=\"zmdi zmdi-trending-down\"></i> Le moins cher</h3>\n",
       "<div class=\"margin-bottom-10\"><h3>Cdiscount</h3></div>\n",
       "<a class=\"btn btn-lg btn-block btn-success price font-size-24 go\" href=\"http://www.comparez-malin.fr/go/294576\" rel=\"nofollow\" target=\"_blank\" title=\"Voir l'offre sur Cdiscount\">899,00 €</a>\n",
       "<input class=\"product_categorie\" type=\"hidden\" value=\"PC portable\"/>\n",
       "<input class=\"product_name\" type=\"hidden\" value=\"HP Pavilion 15-bc202nf\"/>\n",
       "<input class=\"product_price\" type=\"hidden\" value=\"899.00\"/>\n",
       "<input class=\"product_offer\" type=\"hidden\" value=\"Cdiscount\"/>\n",
       "<input class=\"product_id\" type=\"hidden\" value=\"294576\"/>\n",
       "<div class=\"margin-top-10 font-size-12\"><span class=\"label label-warning font-size-12\">Livraison offerte</span></div>\n",
       "<div class=\"margin-top-10 font-size-14\">En stock</div>\n",
       "</div><p class=\"text-center font-size-12 margin-top-15\">Prix conseillé en février 2017 : 899,00€</p></div>\n",
       "</div>"
      ],
      "text/plain": [
       "<IPython.core.display.HTML object>"
      ]
     },
     "metadata": {},
     "output_type": "display_data"
    }
   ],
   "source": [
    "# Display n top ranked computer web pages\n",
    "n = 5\n",
    "for i, (index, row) in enumerate(df.iterrows()):\n",
    "    print(\"-\" * 50)\n",
    "    print(row[\"url\"])\n",
    "    print(\"{} {}\".format(row[\"marque\"], row[\"référence\"]))\n",
    "    print_score(df_score.loc[index])\n",
    "    display_laptop(row[\"url\"])\n",
    "    if i >= (n-1):\n",
    "        break"
   ]
  }
 ],
 "metadata": {
  "kernelspec": {
   "display_name": "Python 3",
   "language": "python",
   "name": "python3"
  },
  "language_info": {
   "codemirror_mode": {
    "name": "ipython",
    "version": 3
   },
   "file_extension": ".py",
   "mimetype": "text/x-python",
   "name": "python",
   "nbconvert_exporter": "python",
   "pygments_lexer": "ipython3",
   "version": "3.5.2"
  },
  "widgets": {
   "state": {
    "7a960115760e4d95a2dc31c1f7b768b7": {
     "views": [
      {
       "cell_index": 10
      }
     ]
    }
   },
   "version": "1.2.0"
  }
 },
 "nbformat": 4,
 "nbformat_minor": 1
}
