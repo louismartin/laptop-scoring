{
 "cells": [
  {
   "cell_type": "markdown",
   "metadata": {},
   "source": [
    "# Laptop specifications scrapper\n",
    "Scrap comparez-malin.com for laptop specification"
   ]
  },
  {
   "cell_type": "code",
   "execution_count": null,
   "metadata": {
    "collapsed": false
   },
   "outputs": [],
   "source": [
    "%load_ext autoreload\n",
    "%autoreload 2\n",
    "\n",
    "from tqdm import tqdm\n",
    "from bs4 import BeautifulSoup\n",
    "import pandas as pd\n",
    "import qgrid\n",
    "import numpy as np\n",
    "from IPython.core.interactiveshell import InteractiveShell\n",
    "\n",
    "from laptop_scoring import scrap\n",
    "from laptop_scoring.utils import scale, ease, display_laptop\n",
    "\n",
    "\n",
    "# Display all variables alon in a line\n",
    "InteractiveShell.ast_node_interactivity = \"all\""
   ]
  },
  {
   "cell_type": "markdown",
   "metadata": {},
   "source": [
    "## Get all specs needed"
   ]
  },
  {
   "cell_type": "code",
   "execution_count": null,
   "metadata": {
    "collapsed": false
   },
   "outputs": [],
   "source": [
    "#Get links to each laptop page in a  dataframe\n",
    "df_laptops_urls = scrap.get_laptops_urls()\n",
    "\n",
    "# Get specs for all laptops\n",
    "#df_laptops_urls = df_laptops_urls.sample(n=100, random_state=0)\n",
    "df = scrap.get_all_laptops_specs(df_laptops_urls, overwrite=False)\n",
    "df.columns = df.columns.str.lower().str.replace(\" \", \"_\").str.replace(\".\", \"\").str.replace(\"(\", \"\").str.replace(\")\", \"\")\n",
    "\n",
    "# Get CPU and GPU benchmarks\n",
    "df_cpu = scrap.get_cpu_dataframe(overwrite=False)\n",
    "df = df.reset_index().merge(df_cpu, on=\"processeur\", how=\"left\").set_index(\"index\")\n",
    "\n",
    "df_gpu = scrap.get_gpu_dataframe(overwrite=False)\n",
    "df = df.reset_index().merge(df_gpu, on=\"puce_graphique_dédiée\", how=\"left\").set_index(\"index\")\n",
    "df[\"puce_graphique_dédiée\"] = df[\"puce_graphique_dédiée\"].str.replace(\"Nvidia\", \"\").str.replace(\"GeForce\", \"\").str.replace(\"GTX\", \"\")"
   ]
  },
  {
   "cell_type": "markdown",
   "metadata": {},
   "source": [
    "## Processing & Cleaning"
   ]
  },
  {
   "cell_type": "code",
   "execution_count": null,
   "metadata": {
    "collapsed": false
   },
   "outputs": [],
   "source": [
    "# One-liners\n",
    "df[\"prix_public\"] = df[\"prix_public\"].str.strip(\"€\").str.replace(\" \", \"\").str.replace(\",\", \".\").astype(float)\n",
    "df[\"prix\"] = df[\"prix\"].str.strip(\"€\").str.replace(\" \", \"\").str.replace(\",\", \".\").astype(float)\n",
    "df[[\"coeurs\", \"min_freq\", \"max_freq\"]] = df[\"fréquence\"].str.split(expand=True)[[0,2,4]].astype(float)\n",
    "df[\"single_core_benchmark\"] = df[\"cpu_benchmark\"] / df[\"coeurs\"]\n",
    "df[\"pdt_max\"] = df[\"pdt_max\"].str.split(expand=True)[0].astype(int)\n",
    "df[\"mémoire_ram\"] = df[\"mémoire_ram\"].str.split(expand=True)[0].astype(int)\n",
    "\n",
    "# Split disque_dur in sshd (bool), hdd_size, hdd_speed, ssd_size\n",
    "df[\"sshd\"] = df[\"disque_dur\"].apply(lambda x: (\"cache SSD\" in x))\n",
    "df[\"disque_dur\"] = df[\"disque_dur\"].str.replace(\"cache SSD\", \"\").str.replace(\"(\", \"\").str.replace(\")\", \"\")\n",
    "df[\"hdd_size\"] = df[\"disque_dur\"].apply(lambda x: int(x.split(\"tr/min\")[0].split()[0]) if (\"tr/min\" in x) else 0)\n",
    "df[\"hdd_speed\"] = df[\"disque_dur\"].apply(lambda x: int((x.split(\"tr/min\")[0].strip().split()[-1])) if (\"tr/min\" in x) else 0)\n",
    "df[\"ssd_size\"] = df[\"disque_dur\"].apply(lambda x: int(x.split(\"tr/min\")[-1].split(\"Go SSD\")[0].split()[-1].replace(\"SSD\", \"\")) if (\"Go SSD\" in x) else 0)\n",
    "\n",
    "df[\"res_width\"] = df[\"résolution\"].str.split(expand=True)[0].astype(int)\n",
    "df[\"taille\"] = df[\"taille\"].str.split('\" ', expand=True)[0].astype(float)\n",
    "df[[\"width\", \"depth\", \"height\"]] = df[\"dimensions\"].str.split(expand=True)[[0,2,4]].astype(float)\n",
    "df[[\"width\", \"depth\", \"height\"]] = df[\"dimensions\"].str.split(\"x\", expand=True)\n",
    "# Sometimes heights are written \"17 - 18\" so take the max\n",
    "df[\"height\"] = df[\"height\"].str.replace(\" mm\", \"\").str.split(\"-\", expand=True).fillna(0).astype(float).max(axis=1)\n",
    "df[[\"width\", \"depth\"]] = df[[\"width\", \"depth\"]].astype(float)\n",
    "df[\"poids\"] = df[\"poids\"].str.replace(\"kg\", \"\").str.replace(\"g\", \"\").str.strip().astype(float)\n",
    "# Convert weights expressed in grams to kilograms\n",
    "df[\"poids\"] = df[\"poids\"].apply(lambda x: x if x<100 else x/1000)\n",
    "df = df.fillna(0)"
   ]
  },
  {
   "cell_type": "markdown",
   "metadata": {},
   "source": [
    "## Scoring"
   ]
  },
  {
   "cell_type": "code",
   "execution_count": null,
   "metadata": {
    "collapsed": true
   },
   "outputs": [],
   "source": [
    "# Wether to use official price (might not be available) or current price\n",
    "#prix = \"prix_public\"\n",
    "prix = \"prix\"\n",
    "if prix == \"prix\":\n",
    "    # Remove laptops with no current price (often because unavailable)\n",
    "    df = df[(df[\"prix\"]!=0)]"
   ]
  },
  {
   "cell_type": "code",
   "execution_count": null,
   "metadata": {
    "collapsed": false
   },
   "outputs": [],
   "source": [
    "# List of tuples: (col_name, method, do_scale)\n",
    "scoring_methods = [\n",
    "    (prix, lambda x: (x/800) ** 2, False),\n",
    "    (\"single_core_benchmark\", lambda x: x * 1, True),\n",
    "    (\"coeurs\", lambda x: x * 1, True),\n",
    "    (\"mémoire_ram\", lambda x: x * 0.5, True),\n",
    "    (\"gpu_benchmark\", lambda x: ease(x) * 1, True),\n",
    "    (\"min_freq\", lambda x: x * 0.3, True),\n",
    "    (\"max_freq\", lambda x: x * 0.5, True),\n",
    "    (\"pdt_max\", lambda x: x * -0.5, True),\n",
    "    (\"hdd_speed\", lambda x: (x==7200) * 0.5, False),\n",
    "    (\"sshd\", lambda x: x * 0.6, False),\n",
    "    (\"ssd_size\", lambda x: ((x>0) + ease(x))/2 * 0.6, True),\n",
    "    (\"poids\", lambda x: x * -0.5, True),\n",
    "    (\"height\", lambda x: -x * 0.8, True),\n",
    "    (\"taille\", lambda x: (x>15.6 or x<13.3) * -2 + (x<14) * -1, False),\n",
    "    (\"res_width\", lambda x: ease(x) * 1, True),\n",
    "    (\"composition\", lambda x: ((\"Aluminium\" in x) or (\"Métal\" in x)) * 1, False),\n",
    "    (\"marque\", lambda x: (x==\"Acer\") * -0.5, False)\n",
    "]\n",
    "\n",
    "df_score = pd.DataFrame(index=df.index, columns=[\"score\"])\n",
    "\n",
    "\n",
    "# Generic methods that take one column as input\n",
    "# and output its associated score\n",
    "for (col_name, method, do_scale) in tqdm(scoring_methods):\n",
    "    col = df[col_name]\n",
    "    if do_scale:\n",
    "        col = scale(col)\n",
    "    df_score[col_name] = col.apply(method)\n",
    "\n",
    "# Compute total score\n",
    "df_score = df_score.fillna(0)\n",
    "df_score[\"total\"] = df_score.drop([\"score\", prix], axis=1).sum(axis=1)\n",
    "df_score[\"total\"] /= df_score[prix]\n",
    "df_score[\"score\"] = df_score[\"total\"]/df_score[\"total\"].max()\n",
    "df[\"score\"] = df_score[\"score\"]\n",
    "df = df.sort_values(by=\"score\", ascending=False)\n",
    "df_score = df_score.loc[df.index]"
   ]
  },
  {
   "cell_type": "markdown",
   "metadata": {},
   "source": [
    "## Display results"
   ]
  },
  {
   "cell_type": "code",
   "execution_count": null,
   "metadata": {
    "collapsed": false
   },
   "outputs": [],
   "source": [
    "#qgrid.set_defaults(grid_options={'forceFitColumns': False})#, 'defaultColumnWidth': 200})\n",
    "cols_to_show = \"url marque référence score taille res_width processeur puce_graphique_dédiée mémoire_ram ssd_size prix prix_public\".split()\n",
    "#height single_core_benchmark coeurs cpu_benchmark gpu_benchmark min_freq max_freq pdt_max hdd_speed sshd \n",
    "qgrid.show_grid(df[cols_to_show])"
   ]
  },
  {
   "cell_type": "code",
   "execution_count": null,
   "metadata": {
    "collapsed": false
   },
   "outputs": [],
   "source": [
    "# Display top ranked computer web pages\n",
    "iframe = '<iframe width=\"100%\" height=\"350\" src=\"{}\"></iframe>'\n",
    "for index, row in df.head().iterrows():\n",
    "    print(\"-\" * 50)\n",
    "    #print(df_score.loc[index])\n",
    "    display_laptop(row[\"url\"])\n",
    "    break"
   ]
  }
 ],
 "metadata": {
  "kernelspec": {
   "display_name": "Python 3",
   "language": "python",
   "name": "python3"
  },
  "language_info": {
   "codemirror_mode": {
    "name": "ipython",
    "version": 3
   },
   "file_extension": ".py",
   "mimetype": "text/x-python",
   "name": "python",
   "nbconvert_exporter": "python",
   "pygments_lexer": "ipython3",
   "version": "3.5.2"
  }
 },
 "nbformat": 4,
 "nbformat_minor": 1
}
