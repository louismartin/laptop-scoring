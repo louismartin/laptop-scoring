{
 "cells": [
  {
   "cell_type": "markdown",
   "metadata": {},
   "source": [
    "# Laptop specifications scrapper\n",
    "Scrap comparez-malin.com for laptop specification"
   ]
  },
  {
   "cell_type": "code",
   "execution_count": null,
   "metadata": {
    "collapsed": false
   },
   "outputs": [],
   "source": [
    "%load_ext autoreload\n",
    "%autoreload 2\n",
    "%matplotlib inline\n",
    "\n",
    "from tqdm import tqdm\n",
    "from bs4 import BeautifulSoup\n",
    "import pandas as pd\n",
    "import qgrid\n",
    "import matplotlib.pyplot as plt\n",
    "import numpy as np\n",
    "import seaborn as sns\n",
    "\n",
    "from laptop_scoring import scrapping\n",
    "from laptop_scoring.processing import get_min_price, process_and_clean\n",
    "from laptop_scoring.utils import scale, ease, display_laptop, print_score, row2html, draw_rank_page\n",
    "\n",
    "sns.set_style(\"darkgrid\")"
   ]
  },
  {
   "cell_type": "markdown",
   "metadata": {},
   "source": [
    "## Get all specs needed"
   ]
  },
  {
   "cell_type": "code",
   "execution_count": null,
   "metadata": {
    "collapsed": false
   },
   "outputs": [],
   "source": [
    "overwrite = False  # Wether to redownload everything or read stored dataframes\n",
    "\n",
    "# Get links to each laptop page in a  dataframe\n",
    "df_urls = scrapping.get_laptops_urls(overwrite=overwrite, n_threads=4)\n",
    "df_urls[\"prix_min\"] = get_min_price(df_urls)\n",
    "\n",
    "# Get specs for all laptops\n",
    "df = scrapping.get_all_laptops_specs(df_urls, overwrite=overwrite)\n",
    "df.columns = df.columns.str.lower().str.replace(\" \", \"_\").str.replace(\"[()\\.]\", \"\")\n",
    "\n",
    "# Get CPU and GPU benchmarks\n",
    "df_cpu = scrapping.get_cpu_dataframe(df[\"processeur\"].fillna(\"\").unique(), overwrite=overwrite)\n",
    "df = df.reset_index().merge(df_cpu, on=\"processeur\", how=\"left\").set_index(\"index\")\n",
    "\n",
    "df_gpu = scrapping.get_gpu_dataframe(df[\"puce_graphique_dédiée\"].fillna(\"\").unique(), overwrite=overwrite)\n",
    "df = df.reset_index().merge(df_gpu, on=\"puce_graphique_dédiée\", how=\"left\").set_index(\"index\")\n",
    "\n",
    "# Processing and cleaning\n",
    "df = process_and_clean(df)\n",
    "df_ori = df.copy()"
   ]
  },
  {
   "cell_type": "code",
   "execution_count": null,
   "metadata": {
    "collapsed": true
   },
   "outputs": [],
   "source": [
    "scrapping.save_images(df_urls)"
   ]
  },
  {
   "cell_type": "markdown",
   "metadata": {},
   "source": [
    "## Scoring"
   ]
  },
  {
   "cell_type": "code",
   "execution_count": null,
   "metadata": {
    "collapsed": false
   },
   "outputs": [],
   "source": [
    "df = df_ori.copy()\n",
    "\n",
    "# Wether to use official price (might not be available) or current price\n",
    "#prix = \"prix_public\"\n",
    "prix = \"prix_min\"\n",
    "if prix in [\"prix\", \"prix_min\"]:\n",
    "    # Remove laptops with no current price (often because unavailable)\n",
    "    df = df[~np.isnan(df[\"prix\"].astype(np.float))]\n",
    "\n",
    "# Adjust the coefficients to your liking !\n",
    "# List of tuples: (col_name, method, do_scale)\n",
    "scoring_methods = [\n",
    "    (prix, lambda x: -x * 3, True),\n",
    "    (\"single_core_benchmark\", lambda x: x * 0.5, True),\n",
    "    (\"coeurs\", lambda x: x * 0.5, True),\n",
    "    (\"mémoire_ram\", lambda x: x * 0.2, True),\n",
    "    (\"gpu_benchmark\", lambda x: ease(x, method=\"log\", asymetric=True) * 1.5, True),\n",
    "    (\"min_freq\", lambda x: x * 0.2, True),\n",
    "    (\"max_freq\", lambda x: x * 0.2, True),\n",
    "    (\"pdt_max\", lambda x: x * -0.15, True),\n",
    "    (\"hdd_speed\", lambda x: (x==7200) * 0.1, False),\n",
    "    (\"sshd\", lambda x: x * 0.1, False),\n",
    "    (\"ssd_size\", lambda x: ((x>0) + ease(x))/2 * 0.2, True),\n",
    "    (\"poids\", lambda x: -x * 0.5, True),\n",
    "    (\"height\", lambda x: -x * 0.5, True),\n",
    "    (\"taille\", lambda x: (x>15.6 or x<13.3) * -3 + (x<14) * -2, False),\n",
    "    (\"screen_to_body\", lambda x: x * 0.2, True),\n",
    "    (\"res_width\", lambda x: (x<1920) * -2 + (x>1920) * 0.3 , False),\n",
    "    (\"composition\",\n",
    "     lambda x: (\n",
    "            ((\"Aluminium\" in x) or (\"Métal\" in x)) * 0.4\n",
    "           + (\"Plastique\" in x) * -0.4\n",
    "        ) , False),\n",
    "    (\"type_c\",\n",
    "     lambda x: (\n",
    "            (\"Gen 1\" in x) * 0.1\n",
    "          + (\"Gen 2\" in x) * 0.2\n",
    "          + (\"Thunderbolt\" in x) * 0.6\n",
    "          + (\"Charging\" in x) * 0.2\n",
    "        ), False),\n",
    "    (\"marque\", lambda x: (x==\"Acer\") * -0 + (x==\"MSI\") * -0 + (x==\"Dell\") * 1, False),  # Acer is not good quality and MSI are ugly\n",
    "    (\"url\", lambda x: (\"rog\" in x) * -0, False)  # Asus ROG are ugly\n",
    "]\n",
    "\n",
    "df_score = pd.DataFrame(index=df.index, columns=[\"score\"])\n",
    "\n",
    "\n",
    "# Generic methods that take one column as input\n",
    "# and output its associated score\n",
    "for (col_name, method, do_scale) in tqdm(scoring_methods):\n",
    "    col = df[col_name]\n",
    "    if do_scale:\n",
    "        col = scale(col)\n",
    "    df_score[col_name] = col.apply(method)\n",
    "\n",
    "# Compute total score\n",
    "df_score = df_score.fillna(0)\n",
    "df_score[\"total\"] = df_score.drop([\"score\"], axis=1).sum(axis=1)\n",
    "max_score = df_score[\"total\"].max()\n",
    "min_score = df_score[\"total\"].min()\n",
    "df_score[\"score\"] = (df_score[\"total\"] - min_score)/(max_score - min_score)\n",
    "df[\"score\"] = df_score[\"score\"]\n",
    "df = df.sort_values(by=\"score\", ascending=False)\n",
    "df_score = df_score.loc[df.index]"
   ]
  },
  {
   "cell_type": "code",
   "execution_count": null,
   "metadata": {
    "collapsed": false
   },
   "outputs": [],
   "source": [
    "plt.hist(df[\"prix\"].as_matrix(), bins=[i*100 for i in range(30)])\n",
    "plt.title(\"Price repartition for {} laptops\".format(df.shape[0]))\n",
    "plt.xlabel(\"Price €\")\n",
    "plt.show()"
   ]
  },
  {
   "cell_type": "markdown",
   "metadata": {},
   "source": [
    "## Filtering"
   ]
  },
  {
   "cell_type": "code",
   "execution_count": null,
   "metadata": {
    "collapsed": false
   },
   "outputs": [],
   "source": [
    "# Keep only computers that fit your needs\n",
    "#df = df[df[\"gpu_benchmark\"]>500]  # At least a GTX 920M\n",
    "#df = df[df[\"gpu_benchmark\"]>1500]  # At least a GTX 950M\n",
    "df = df[df[\"cpu_benchmark\"]>3000]  # At least a i5-4210U\n",
    "df = df[(df[\"taille\"]>=13.3) & (df[\"taille\"]<=15.6)]\n",
    "df = df[df[\"res_width\"]>=1920]\n",
    "df = df[df[\"type_c\"].str.contains(\"Thunderbolt\")] \n",
    "#df = df[df[\"marque\"]!=\"MSI\"]\n",
    "#df = df[df[\"url\"].apply(lambda x: \"rog\" not in x)]\n",
    "#df = df[df[\"marque\"]==\"Asus\"]\n",
    "#df = df[df[\"url\"].apply(lambda x: \"rog\" not in x)]\n",
    "#df = df[df[\"référence\"].apply(lambda x: \"UX\" in x)]"
   ]
  },
  {
   "cell_type": "markdown",
   "metadata": {},
   "source": [
    "## Display results"
   ]
  },
  {
   "cell_type": "code",
   "execution_count": null,
   "metadata": {
    "collapsed": false
   },
   "outputs": [],
   "source": [
    "#qgrid.set_defaults(grid_options={'forceFitColumns': False})#, 'defaultColumnWidth': 200})\n",
    "cols_to_show = (\"url score marque référence processeur puce_graphique_dédiée mémoire_ram ssd_size taille res_width \" + prix).split()\n",
    "#height single_core_benchmark coeurs cpu_benchmark gpu_benchmark min_freq max_freq pdt_max hdd_speed sshd prix_public\n",
    "qgrid.show_grid(df[cols_to_show])\n",
    "#df_score.head()"
   ]
  },
  {
   "cell_type": "markdown",
   "metadata": {},
   "source": [
    "## Top results"
   ]
  },
  {
   "cell_type": "code",
   "execution_count": null,
   "metadata": {
    "collapsed": false
   },
   "outputs": [],
   "source": [
    "draw_rank_page(df, start=0, offline=True, df_score=df_score)"
   ]
  }
 ],
 "metadata": {
  "kernelspec": {
   "display_name": "Python 3",
   "language": "python",
   "name": "python3"
  },
  "language_info": {
   "codemirror_mode": {
    "name": "ipython",
    "version": 3
   },
   "file_extension": ".py",
   "mimetype": "text/x-python",
   "name": "python",
   "nbconvert_exporter": "python",
   "pygments_lexer": "ipython3",
   "version": "3.4.3"
  },
  "widgets": {
   "state": {
    "0adf44be4c4045a89fbfb2c46fab7580": {
     "views": [
      {
       "cell_index": 11
      }
     ]
    },
    "3580446c158b4897a19696c9af53f0e1": {
     "views": [
      {
       "cell_index": 14
      }
     ]
    },
    "6c12121895c1488e9fd32ff7d5a1a55f": {
     "views": [
      {
       "cell_index": 14
      }
     ]
    },
    "87fe3db1433c47dcafa62d02b9e428ac": {
     "views": [
      {
       "cell_index": 14
      }
     ]
    },
    "89cb0cb20d3f4c0da738e03d40e311ce": {
     "views": [
      {
       "cell_index": 14
      }
     ]
    },
    "9ea5e327602642bd87d0d500d094db52": {
     "views": [
      {
       "cell_index": 14
      }
     ]
    },
    "b13328b327664c0aa86aa09b242d1307": {
     "views": [
      {
       "cell_index": 13
      }
     ]
    },
    "b136a83ebb804344922340ff34cb377f": {
     "views": [
      {
       "cell_index": 14
      }
     ]
    },
    "c42fa7cef4ba4e858ad41a4189d2b748": {
     "views": [
      {
       "cell_index": 14
      }
     ]
    },
    "e859c6a04ef34643b58bb67e901fff8f": {
     "views": [
      {
       "cell_index": 14
      }
     ]
    },
    "f2ccfb6a69a442eca772beab46a6d0c3": {
     "views": [
      {
       "cell_index": 14
      }
     ]
    },
    "f5f80cc3b5e244d2ae9beba798460e83": {
     "views": [
      {
       "cell_index": 14
      }
     ]
    },
    "fe60eda679d44881894e803158526269": {
     "views": [
      {
       "cell_index": 14
      }
     ]
    }
   },
   "version": "1.2.0"
  }
 },
 "nbformat": 4,
 "nbformat_minor": 1
}
