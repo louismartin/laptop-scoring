{
 "cells": [
  {
   "cell_type": "markdown",
   "metadata": {},
   "source": [
    "# Laptop specifications scrapper\n",
    "Scrap comparez-malin.com for laptop specification"
   ]
  },
  {
   "cell_type": "code",
   "execution_count": 1,
   "metadata": {
    "collapsed": false
   },
   "outputs": [],
   "source": [
    "%load_ext autoreload\n",
    "%autoreload 2\n",
    "%matplotlib inline\n",
    "\n",
    "from tqdm import tqdm\n",
    "from bs4 import BeautifulSoup\n",
    "import pandas as pd\n",
    "import qgrid\n",
    "import matplotlib.pyplot as plt\n",
    "import numpy as np\n",
    "import seaborn as sns\n",
    "\n",
    "from laptop_scoring import scrapping\n",
    "from laptop_scoring.processing import get_min_price, process_and_clean\n",
    "from laptop_scoring.utils import scale, ease, display_laptop, print_score\n",
    "\n",
    "sns.set_style(\"darkgrid\")"
   ]
  },
  {
   "cell_type": "markdown",
   "metadata": {},
   "source": [
    "## Get all specs needed"
   ]
  },
  {
   "cell_type": "code",
   "execution_count": 2,
   "metadata": {
    "collapsed": false
   },
   "outputs": [
    {
     "name": "stdout",
     "output_type": "stream",
     "text": [
      "Reading dataframe from data/get_laptops_urls.csv\n",
      "Reading dataframe from data/get_all_laptops_specs.csv\n",
      "Reading dataframe from data/get_cpu_dataframe.csv\n",
      "Reading dataframe from data/get_gpu_dataframe.csv\n"
     ]
    }
   ],
   "source": [
    "overwrite = False  # Wether to redownload everything or read stored dataframes\n",
    "\n",
    "# Get links to each laptop page in a  dataframe\n",
    "df_urls = scrapping.get_laptops_urls(overwrite=False)\n",
    "df_urls[\"prix_min\"] = get_min_price(df_urls)\n",
    "\n",
    "# Get specs for all laptops\n",
    "df = scrapping.get_all_laptops_specs(df_urls, overwrite=overwrite)\n",
    "df.columns = df.columns.str.lower().str.replace(\" \", \"_\").str.replace(\".\", \"\").str.replace(\"(\", \"\").str.replace(\")\", \"\")\n",
    "\n",
    "# Get CPU and GPU benchmarks\n",
    "df_cpu = scrapping.get_cpu_dataframe(df[\"processeur\"].unique(), overwrite=overwrite)\n",
    "df = df.reset_index().merge(df_cpu, on=\"processeur\", how=\"left\").set_index(\"index\")\n",
    "\n",
    "df_gpu = scrapping.get_gpu_dataframe(df[\"puce_graphique_dédiée\"].unique(), overwrite=overwrite)\n",
    "df = df.reset_index().merge(df_gpu, on=\"puce_graphique_dédiée\", how=\"left\").set_index(\"index\")\n",
    "\n",
    "# Processing and cleaning\n",
    "df = process_and_clean(df)\n",
    "df_ori = df.copy()"
   ]
  },
  {
   "cell_type": "code",
   "execution_count": 3,
   "metadata": {
    "collapsed": false
   },
   "outputs": [
    {
     "name": "stderr",
     "output_type": "stream",
     "text": [
      "100%|██████████| 2828/2828 [00:00<00:00, 6829.56it/s]\n"
     ]
    }
   ],
   "source": [
    "scrapping.save_images(df_urls)"
   ]
  },
  {
   "cell_type": "markdown",
   "metadata": {},
   "source": [
    "## Scoring"
   ]
  },
  {
   "cell_type": "code",
   "execution_count": 4,
   "metadata": {
    "collapsed": false
   },
   "outputs": [
    {
     "name": "stderr",
     "output_type": "stream",
     "text": [
      "100%|██████████| 20/20 [00:00<00:00, 280.57it/s]\n"
     ]
    }
   ],
   "source": [
    "df = df_ori.copy()\n",
    "\n",
    "# Wether to use official price (might not be available) or current price\n",
    "#prix = \"prix_public\"\n",
    "prix = \"prix_min\"\n",
    "if prix in [\"prix\", \"prix_min\"]:\n",
    "    # Remove laptops with no current price (often because unavailable)\n",
    "    df = df[~np.isnan(df[\"prix\"])]\n",
    "\n",
    "# Adjust the coefficients to your liking !\n",
    "# List of tuples: (col_name, method, do_scale)\n",
    "scoring_methods = [\n",
    "    (prix, lambda x: -x * 4, True),\n",
    "    (\"single_core_benchmark\", lambda x: x * 0.6, True),\n",
    "    (\"coeurs\", lambda x: x * 0.5, True),\n",
    "    (\"mémoire_ram\", lambda x: x * 0.4, True),\n",
    "    (\"gpu_benchmark\", lambda x: ease(x, method=\"log\", asymetric=True) * 1, True),\n",
    "    (\"min_freq\", lambda x: x * 0.2, True),\n",
    "    (\"max_freq\", lambda x: x * 0.2, True),\n",
    "    (\"pdt_max\", lambda x: x * -0.15, True),\n",
    "    (\"hdd_speed\", lambda x: (x==7200) * 0.1, False),\n",
    "    (\"sshd\", lambda x: x * 0.2, False),\n",
    "    (\"ssd_size\", lambda x: ((x>0) + ease(x))/2 * 0.4, True),\n",
    "    (\"poids\", lambda x: x * -0.5, True),\n",
    "    (\"height\", lambda x: -x * 0.7, True),\n",
    "    (\"taille\", lambda x: (x>15.6 or x<13.3) * -3 + (x<14) * -2, False),\n",
    "    (\"screen_to_body\", lambda x: x * 0.5, True),\n",
    "    (\"res_width\", lambda x: (x<1920) * -2 + (x>1920) * 0.3 , False),\n",
    "    (\"composition\",\n",
    "     lambda x: (\n",
    "            ((\"Aluminium\" in x) or (\"Métal\" in x)) * 0.4\n",
    "           + (\"Plastique\" in x) * -0.4\n",
    "        ) , False),\n",
    "    (\"type_c\",\n",
    "     lambda x: (\n",
    "            (\"Gen 1\" in x) * 0.1\n",
    "          + (\"Gen 2\" in x) * 0.2\n",
    "          + (\"Thunderbolt\" in x) * 0.2\n",
    "          + (\"Charging\" in x) * 0.2\n",
    "        ), False),\n",
    "    (\"marque\", lambda x: (x==\"Acer\") * -0.1 + (x==\"MSI\") * -0.1, False),  # Acer is not good quality and MSI are ugly\n",
    "    (\"url\", lambda x: (\"rog\" in x) * -0.1, False)  # Asus ROG are ugly\n",
    "]\n",
    "\n",
    "df_score = pd.DataFrame(index=df.index, columns=[\"score\"])\n",
    "\n",
    "\n",
    "# Generic methods that take one column as input\n",
    "# and output its associated score\n",
    "for (col_name, method, do_scale) in tqdm(scoring_methods):\n",
    "    col = df[col_name]\n",
    "    if do_scale:\n",
    "        col = scale(col)\n",
    "    df_score[col_name] = col.apply(method)\n",
    "\n",
    "# Compute total score\n",
    "df_score = df_score.fillna(0)\n",
    "df_score[\"total\"] = df_score.drop([\"score\"], axis=1).sum(axis=1)\n",
    "max_score = df_score[\"total\"].max()\n",
    "min_score = df_score[\"total\"].min()\n",
    "df_score[\"score\"] = (df_score[\"total\"] - min_score)/(max_score - min_score)\n",
    "df[\"score\"] = df_score[\"score\"]\n",
    "df = df.sort_values(by=\"score\", ascending=False)\n",
    "df_score = df_score.loc[df.index]"
   ]
  },
  {
   "cell_type": "code",
   "execution_count": 5,
   "metadata": {
    "collapsed": false
   },
   "outputs": [
    {
     "data": {
      "image/png": "[encoded data removed]",
      "text/plain": [
       "<matplotlib.figure.Figure at 0x7f67485f5cc0>"
      ]
     },
     "metadata": {},
     "output_type": "display_data"
    }
   ],
   "source": [
    "plt.hist(df[\"prix\"].as_matrix(), bins=[i*100 for i in range(30)])\n",
    "plt.title(\"Price repartition for {} laptops\".format(df.shape[0]))\n",
    "plt.xlabel(\"Price €\")\n",
    "plt.show()"
   ]
  },
  {
   "cell_type": "markdown",
   "metadata": {},
   "source": [
    "## Filtering"
   ]
  },
  {
   "cell_type": "code",
   "execution_count": 6,
   "metadata": {
    "collapsed": false
   },
   "outputs": [],
   "source": [
    "# Keep only computers that fit your needs\n",
    "#df = df[df[\"gpu_benchmark\"]>500]  # At least a GTX 920M\n",
    "df = df[df[\"gpu_benchmark\"]>1500]  # At least a GTX 950M\n",
    "df = df[df[\"cpu_benchmark\"]>3000]  # At least a i5-4210U\n",
    "df = df[(df[\"taille\"]>=13.3) & (df[\"taille\"]<=15.6)]\n",
    "df = df[df[\"res_width\"]>=1920]\n",
    "#df = df[df[\"marque\"]!=\"MSI\"]\n",
    "#df = df[df[\"url\"].apply(lambda x: \"rog\" not in x)]\n",
    "#df = df[df[\"marque\"]==\"Asus\"]\n",
    "#df = df[df[\"url\"].apply(lambda x: \"rog\" not in x)]\n",
    "#df = df[df[\"référence\"].apply(lambda x: \"UX\" in x)]"
   ]
  },
  {
   "cell_type": "markdown",
   "metadata": {},
   "source": [
    "## Display results"
   ]
  },
  {
   "cell_type": "code",
   "execution_count": 7,
   "metadata": {
    "collapsed": false
   },
   "outputs": [],
   "source": [
    "#qgrid.set_defaults(grid_options={'forceFitColumns': False})#, 'defaultColumnWidth': 200})\n",
    "cols_to_show = (\"url score marque référence processeur puce_graphique_dédiée mémoire_ram ssd_size taille res_width \" + prix).split()\n",
    "#height single_core_benchmark coeurs cpu_benchmark gpu_benchmark min_freq max_freq pdt_max hdd_speed sshd prix_public\n",
    "qgrid.show_grid(df[cols_to_show])\n",
    "#df_score.head()"
   ]
  },
  {
   "cell_type": "markdown",
   "metadata": {},
   "source": [
    "## Top results"
   ]
  },
  {
   "cell_type": "code",
   "execution_count": 9,
   "metadata": {
    "collapsed": false
   },
   "outputs": [
    {
     "name": "stdout",
     "output_type": "stream",
     "text": [
      "--------------------------------------------------\n",
      "nan 1HF07EA#ABF 599.99€ http://www.comparez-malin.fr/informatique/pc-portable/hp-omen-15-ax050nf.html\n"
     ]
    },
    {
     "data": {
      "text/html": [
       "<div class=\"row\">\n",
       "<div class=\"col-xs-12 col-sm-12 col-md-12 col-lg-4 text-center vertical-align-middle\">\n",
       "<div class=\"gallery\"><a href=\"http://cdn.comparez-malin.fr/img/hp/2017/58934014f841404c658b456f/hp-omen-15-2016-1.jpg?v6\" title=\"HP Omen 15-ax050nf\">\n",
       "<img alt=\"HP Omen 15-ax050nf\" class=\"padding-30 img-responsive\" itemprop=\"image\" src=\"http://cdn.comparez-malin.fr/img/hp/2017/58934014f841404c658b456f/hp-omen-15-2016.jpg?v6\"/>\n",
       "</a></div>\n",
       "</div>\n",
       "<div class=\"col-xs-12 col-sm-12 col-md-6 col-lg-5\"><ul class=\"list-icons padding-top-10 zmdi-hc-ul\">\n",
       "<li><i aria-hidden=\"true\" class=\"zmdi-hc-li zmdi zmdi-check\"></i> Écran de 15.6\" LCD - IPS\n",
       "(anti-reflets)</li><li><i aria-hidden=\"true\" class=\"zmdi-hc-li zmdi zmdi-check\"></i> Résolution Full HD 1920 x 1080 pixels</li><li><i aria-hidden=\"true\" class=\"zmdi-hc-li zmdi zmdi-check\"></i> FreeDOS 1.1</li><li><i aria-hidden=\"true\" class=\"zmdi-hc-li zmdi zmdi-check\"></i> Intel Core i5-6300HQ (4 x 2.3 à 3.2 GHz)\n",
       "<li><i aria-hidden=\"true\" class=\"zmdi-hc-li zmdi zmdi-check\"></i> Nvidia GeForce GTX 960M\t</li><li>\n",
       "<i aria-hidden=\"true\" class=\"zmdi-hc-li zmdi zmdi-check\"></i> 8 Go DDR4 - 2133 MHz</li><li>\n",
       "<i aria-hidden=\"true\" class=\"zmdi-hc-li zmdi zmdi-check\"></i>1000 Go (7200 tr/min)</li>\n",
       "<li><i aria-hidden=\"true\" class=\"zmdi-hc-li zmdi zmdi-plus-circle-o green-800\"></i> <a class=\"ancre\" href=\"#specs\" title=\"Caractéristiques complètes\">Voir les caractéristiques complètes</a></li>\n",
       "</li></ul></div>\n",
       "<div class=\"col-xs-12 col-sm-12 col-md-6 col-lg-3\"><div class=\"padding-20 margin-top-20 bg-green-50 text-center\">\n",
       "<h3 class=\"green-800 font-size-18 text-uppercase\"><i class=\"zmdi zmdi-trending-down\"></i> Le moins cher</h3>\n",
       "<div class=\"margin-bottom-10\"><h3>Cdiscount</h3></div>\n",
       "<a class=\"btn btn-lg btn-block btn-success price font-size-24 go\" href=\"http://www.comparez-malin.fr/go/294701\" rel=\"nofollow\" target=\"_blank\" title=\"Voir l'offre sur Cdiscount\">599,99 €</a>\n",
       "<input class=\"product_categorie\" type=\"hidden\" value=\"PC portable\"/>\n",
       "<input class=\"product_name\" type=\"hidden\" value=\"HP Omen 15-ax050nf\"/>\n",
       "<input class=\"product_price\" type=\"hidden\" value=\"599.99\"/>\n",
       "<input class=\"product_offer\" type=\"hidden\" value=\"Cdiscount\"/>\n",
       "<input class=\"product_id\" type=\"hidden\" value=\"294701\"/>\n",
       "<div class=\"margin-top-10 font-size-12\"><span class=\"label label-warning font-size-12\">Livraison offerte</span></div>\n",
       "<div class=\"margin-top-10 font-size-14\">En stock</div>\n",
       "</div><p class=\"text-center font-size-12 margin-top-15\">Prix conseillé en février 2017 : 629,00€</p></div>\n",
       "</div>"
      ],
      "text/plain": [
       "<IPython.core.display.HTML object>"
      ]
     },
     "metadata": {},
     "output_type": "display_data"
    },
    {
     "name": "stdout",
     "output_type": "stream",
     "text": [
      "--------------------------------------------------\n",
      "Asus N551VW-FY328T 899.99€ http://www.comparez-malin.fr/informatique/pc-portable/asus-n551vw-fy328t.html\n"
     ]
    },
    {
     "data": {
      "text/html": [
       "<div class=\"row\">\n",
       "<div class=\"col-xs-12 col-sm-12 col-md-12 col-lg-4 text-center vertical-align-middle\">\n",
       "<div class=\"gallery\"><a href=\"http://cdn.comparez-malin.fr/img/asus/2016/582c543ff8414002498b4569/asus-n551-w10-1.jpg?v6\" title=\"Asus N551VW-FY328T\">\n",
       "<img alt=\"Asus N551VW-FY328T\" class=\"padding-30 img-responsive\" itemprop=\"image\" src=\"http://cdn.comparez-malin.fr/img/asus/2016/582c543ff8414002498b4569/asus-n551-w10.jpg?v6\"/>\n",
       "</a></div>\n",
       "</div>\n",
       "<div class=\"col-xs-12 col-sm-12 col-md-6 col-lg-5\"><ul class=\"list-icons padding-top-10 zmdi-hc-ul\">\n",
       "<li><i aria-hidden=\"true\" class=\"zmdi-hc-li zmdi zmdi-check\"></i> Écran de 15.6\" LCD - IPS\n",
       "(anti-reflets)</li><li><i aria-hidden=\"true\" class=\"zmdi-hc-li zmdi zmdi-check\"></i> Résolution Full HD 1920 x 1080 pixels</li><li><i aria-hidden=\"true\" class=\"zmdi-hc-li zmdi zmdi-check\"></i> Windows 10 Famille</li><li><i aria-hidden=\"true\" class=\"zmdi-hc-li zmdi zmdi-check\"></i> Intel Core i7-6700HQ (4 x 2.6 à 3.5 GHz)\n",
       "<li><i aria-hidden=\"true\" class=\"zmdi-hc-li zmdi zmdi-check\"></i> Nvidia GeForce GTX 960M\t</li><li>\n",
       "<i aria-hidden=\"true\" class=\"zmdi-hc-li zmdi zmdi-check\"></i> 8 Go DDR4 - 2133 MHz</li><li>\n",
       "<i aria-hidden=\"true\" class=\"zmdi-hc-li zmdi zmdi-check\"></i>1500 Go (5400 tr/min)</li>\n",
       "<li><i aria-hidden=\"true\" class=\"zmdi-hc-li zmdi zmdi-plus-circle-o green-800\"></i> <a class=\"ancre\" href=\"#specs\" title=\"Caractéristiques complètes\">Voir les caractéristiques complètes</a></li>\n",
       "</li></ul></div>\n",
       "<div class=\"col-xs-12 col-sm-12 col-md-6 col-lg-3\"><div class=\"padding-20 margin-top-20 bg-green-50 text-center\">\n",
       "<h3 class=\"green-800 font-size-18 text-uppercase\"><i class=\"zmdi zmdi-trending-down\"></i> Le moins cher</h3>\n",
       "<div class=\"margin-bottom-10\"><h3>Fnac</h3></div>\n",
       "<a class=\"btn btn-lg btn-block btn-success price font-size-24 go\" href=\"http://www.comparez-malin.fr/go/288483\" rel=\"nofollow\" target=\"_blank\" title=\"Voir l'offre sur Fnac\">899,99 €</a>\n",
       "<input class=\"product_categorie\" type=\"hidden\" value=\"PC portable\"/>\n",
       "<input class=\"product_name\" type=\"hidden\" value=\"Asus N551VW-FY328T\"/>\n",
       "<input class=\"product_price\" type=\"hidden\" value=\"899.99\"/>\n",
       "<input class=\"product_offer\" type=\"hidden\" value=\"Fnac\"/>\n",
       "<input class=\"product_id\" type=\"hidden\" value=\"288483\"/>\n",
       "<div class=\"margin-top-10 font-size-12\">+ 4,99€ de livraison</div>\n",
       "<div class=\"margin-top-10 font-size-14\">En stock</div>\n",
       "</div><p class=\"text-center font-size-12 margin-top-15\">Prix conseillé en novembre 2016 : 1 099,00€</p></div>\n",
       "</div>"
      ],
      "text/plain": [
       "<IPython.core.display.HTML object>"
      ]
     },
     "metadata": {},
     "output_type": "display_data"
    },
    {
     "name": "stdout",
     "output_type": "stream",
     "text": [
      "--------------------------------------------------\n",
      "Acer V5-591G-57UR 534.0€ http://www.comparez-malin.fr/informatique/pc-portable/acer-aspire-v5-591g-57ur.html\n"
     ]
    },
    {
     "data": {
      "text/html": [
       "<div class=\"row\">\n",
       "<div class=\"col-xs-12 col-sm-12 col-md-12 col-lg-4 text-center vertical-align-middle\">\n",
       "<div class=\"gallery\"><a href=\"http://cdn.comparez-malin.fr/img/acer/2016/5774752f0a086d883a8b4569/acer-aspire-v5-591-1.jpg?v6\" title=\"Acer Aspire V5-591G-57UR\">\n",
       "<img alt=\"Acer Aspire V5-591G-57UR\" class=\"padding-30 img-responsive\" itemprop=\"image\" src=\"http://cdn.comparez-malin.fr/img/acer/2016/5774752f0a086d883a8b4569/acer-aspire-v5-591.jpg?v6\"/>\n",
       "</a></div>\n",
       "</div>\n",
       "<div class=\"col-xs-12 col-sm-12 col-md-6 col-lg-5\"><ul class=\"list-icons padding-top-10 zmdi-hc-ul\">\n",
       "<li><i aria-hidden=\"true\" class=\"zmdi-hc-li zmdi zmdi-check\"></i> Écran de 15.6\" LCD - IPS\n",
       "</li><li><i aria-hidden=\"true\" class=\"zmdi-hc-li zmdi zmdi-check\"></i> Résolution 4K UHD 3840 x 2160 pixels</li><li><i aria-hidden=\"true\" class=\"zmdi-hc-li zmdi zmdi-check\"></i> Windows 10 Famille</li><li><i aria-hidden=\"true\" class=\"zmdi-hc-li zmdi zmdi-check\"></i> Intel Core i5-6300HQ (4 x 2.3 à 3.2 GHz)\n",
       "<li><i aria-hidden=\"true\" class=\"zmdi-hc-li zmdi zmdi-check\"></i> Nvidia GeForce GTX 950M</li><li>\n",
       "<i aria-hidden=\"true\" class=\"zmdi-hc-li zmdi zmdi-check\"></i> 8 Go DDR4 - 2133 MHz</li><li>\n",
       "<i aria-hidden=\"true\" class=\"zmdi-hc-li zmdi zmdi-check\"></i>1000 Go (5400 tr/min)</li>\n",
       "<li><i aria-hidden=\"true\" class=\"zmdi-hc-li zmdi zmdi-plus-circle-o green-800\"></i> <a class=\"ancre\" href=\"#specs\" title=\"Caractéristiques complètes\">Voir les caractéristiques complètes</a></li>\n",
       "</li></ul></div>\n",
       "<div class=\"col-xs-12 col-sm-12 col-md-6 col-lg-3\"><div class=\"padding-20 margin-top-20 bg-green-50 text-center\">\n",
       "<h3 class=\"green-800 font-size-18 text-uppercase\"><i class=\"zmdi zmdi-trending-down\"></i> Le moins cher</h3>\n",
       "<div class=\"margin-bottom-10\"><h3>Darty</h3></div>\n",
       "<a class=\"btn btn-lg btn-block btn-success price font-size-24 go\" href=\"http://www.comparez-malin.fr/go/163125\" rel=\"nofollow\" target=\"_blank\" title=\"Voir l'offre sur Darty\">999,00 €</a>\n",
       "<input class=\"product_categorie\" type=\"hidden\" value=\"PC portable\"/>\n",
       "<input class=\"product_name\" type=\"hidden\" value=\"Acer Aspire V5-591G-57UR\"/>\n",
       "<input class=\"product_price\" type=\"hidden\" value=\"999.00\"/>\n",
       "<input class=\"product_offer\" type=\"hidden\" value=\"Darty\"/>\n",
       "<input class=\"product_id\" type=\"hidden\" value=\"163125\"/>\n",
       "<div class=\"margin-top-10 font-size-12\"><span class=\"label label-warning font-size-12\">Livraison offerte</span></div>\n",
       "<div class=\"margin-top-10 font-size-14\">En stock</div>\n",
       "</div><p class=\"text-center font-size-12 margin-top-15\">Prix conseillé en juin 2016 : 999,00€</p></div>\n",
       "</div>"
      ],
      "text/plain": [
       "<IPython.core.display.HTML object>"
      ]
     },
     "metadata": {},
     "output_type": "display_data"
    },
    {
     "name": "stdout",
     "output_type": "stream",
     "text": [
      "--------------------------------------------------\n",
      "Asus G552VW-DM475T 999.0€ http://www.comparez-malin.fr/informatique/pc-portable/asus-rog-g552vw-dm475t.html\n"
     ]
    },
    {
     "data": {
      "text/html": [
       "<div class=\"row\">\n",
       "<div class=\"col-xs-12 col-sm-12 col-md-12 col-lg-4 text-center vertical-align-middle\">\n",
       "<div class=\"gallery\"><a href=\"http://cdn.comparez-malin.fr/img/asus/2016/5735a9d68eb27788058b4567/asus-rog-g552-1.jpg?v6\" title=\"Asus ROG G552VW-DM475T\">\n",
       "<img alt=\"Asus ROG G552VW-DM475T\" class=\"padding-30 img-responsive\" itemprop=\"image\" src=\"http://cdn.comparez-malin.fr/img/asus/2016/5735a9d68eb27788058b4567/asus-rog-g552.jpg?v6\"/>\n",
       "</a></div>\n",
       "</div>\n",
       "<div class=\"col-xs-12 col-sm-12 col-md-6 col-lg-5\"><ul class=\"list-icons padding-top-10 zmdi-hc-ul\">\n",
       "<li><i aria-hidden=\"true\" class=\"zmdi-hc-li zmdi zmdi-check\"></i> Écran de 15.6\" LCD - TN\n",
       "(anti-reflets)</li><li><i aria-hidden=\"true\" class=\"zmdi-hc-li zmdi zmdi-check\"></i> Résolution Full HD 1920 x 1080 pixels</li><li><i aria-hidden=\"true\" class=\"zmdi-hc-li zmdi zmdi-check\"></i> Windows 10 Famille</li><li><i aria-hidden=\"true\" class=\"zmdi-hc-li zmdi zmdi-check\"></i> Intel Core i7-6700HQ (4 x 2.6 à 3.5 GHz)\n",
       "<li><i aria-hidden=\"true\" class=\"zmdi-hc-li zmdi zmdi-check\"></i> Nvidia GeForce GTX 960M\t</li><li>\n",
       "<i aria-hidden=\"true\" class=\"zmdi-hc-li zmdi zmdi-check\"></i> 8 Go DDR4 - 2133 MHz</li><li>\n",
       "<i aria-hidden=\"true\" class=\"zmdi-hc-li zmdi zmdi-check\"></i>1000 Go (7200 tr/min) + 128 Go (SSD)</li>\n",
       "<li><i aria-hidden=\"true\" class=\"zmdi-hc-li zmdi zmdi-plus-circle-o green-800\"></i> <a class=\"ancre\" href=\"#specs\" title=\"Caractéristiques complètes\">Voir les caractéristiques complètes</a></li>\n",
       "</li></ul></div>\n",
       "<div class=\"col-xs-12 col-sm-12 col-md-6 col-lg-3\"><div class=\"padding-20 margin-top-20 bg-green-50 text-center\">\n",
       "<h3 class=\"green-800 font-size-18 text-uppercase\"><i class=\"zmdi zmdi-trending-down\"></i> Le moins cher</h3>\n",
       "<div class=\"margin-bottom-10\"><h3>Amazon</h3></div>\n",
       "<a class=\"btn btn-lg btn-block btn-success price font-size-24 go\" href=\"http://www.comparez-malin.fr/go/164703\" rel=\"nofollow\" target=\"_blank\" title=\"Voir l'offre sur Amazon\">999,00 €</a>\n",
       "<input class=\"product_categorie\" type=\"hidden\" value=\"PC portable\"/>\n",
       "<input class=\"product_name\" type=\"hidden\" value=\"Asus ROG G552VW-DM475T\"/>\n",
       "<input class=\"product_price\" type=\"hidden\" value=\"999.00\"/>\n",
       "<input class=\"product_offer\" type=\"hidden\" value=\"Amazon\"/>\n",
       "<input class=\"product_id\" type=\"hidden\" value=\"164703\"/>\n",
       "<div class=\"margin-top-10 font-size-12\"><span class=\"label label-warning font-size-12\">Livraison offerte</span></div>\n",
       "<div class=\"margin-top-10 font-size-14\">En stock</div>\n",
       "</div><p class=\"text-center font-size-12 margin-top-15\">Prix conseillé en mai 2016 : 1 199,00€</p></div>\n",
       "</div>"
      ],
      "text/plain": [
       "<IPython.core.display.HTML object>"
      ]
     },
     "metadata": {},
     "output_type": "display_data"
    },
    {
     "name": "stdout",
     "output_type": "stream",
     "text": [
      "--------------------------------------------------\n",
      "HP Z5C06EA#ABF 849.99€ http://www.comparez-malin.fr/informatique/pc-portable/hp-omen-15-ax042nf.html\n"
     ]
    },
    {
     "data": {
      "text/html": [
       "<div class=\"row\">\n",
       "<div class=\"col-xs-12 col-sm-12 col-md-12 col-lg-4 text-center vertical-align-middle\">\n",
       "<div class=\"gallery\"><a href=\"http://cdn.comparez-malin.fr/img/hp/2016/58406d31f84140c36b8b456a/hp-omen-15-2016-1.jpg?v6\" title=\"HP Omen 15-ax042nf\">\n",
       "<img alt=\"HP Omen 15-ax042nf\" class=\"padding-30 img-responsive\" itemprop=\"image\" src=\"http://cdn.comparez-malin.fr/img/hp/2016/58406d31f84140c36b8b456a/hp-omen-15-2016.jpg?v6\"/>\n",
       "</a></div>\n",
       "</div>\n",
       "<div class=\"col-xs-12 col-sm-12 col-md-6 col-lg-5\"><ul class=\"list-icons padding-top-10 zmdi-hc-ul\">\n",
       "<li><i aria-hidden=\"true\" class=\"zmdi-hc-li zmdi zmdi-check\"></i> Écran de 15.6\" LCD - IPS\n",
       "(anti-reflets)</li><li><i aria-hidden=\"true\" class=\"zmdi-hc-li zmdi zmdi-check\"></i> Résolution Full HD 1920 x 1080 pixels</li><li><i aria-hidden=\"true\" class=\"zmdi-hc-li zmdi zmdi-check\"></i> Windows 10 Famille</li><li><i aria-hidden=\"true\" class=\"zmdi-hc-li zmdi zmdi-check\"></i> Intel Core i7-6700HQ (4 x 2.6 à 3.5 GHz)\n",
       "<li><i aria-hidden=\"true\" class=\"zmdi-hc-li zmdi zmdi-check\"></i> Nvidia GeForce GTX 960M\t</li><li>\n",
       "<i aria-hidden=\"true\" class=\"zmdi-hc-li zmdi zmdi-check\"></i> 8 Go DDR4 - 2133 MHz</li><li>\n",
       "<i aria-hidden=\"true\" class=\"zmdi-hc-li zmdi zmdi-check\"></i>1000 Go (7200 tr/min) + 256 Go (SSD)</li>\n",
       "<li><i aria-hidden=\"true\" class=\"zmdi-hc-li zmdi zmdi-plus-circle-o green-800\"></i> <a class=\"ancre\" href=\"#specs\" title=\"Caractéristiques complètes\">Voir les caractéristiques complètes</a></li>\n",
       "</li></ul></div>\n",
       "<div class=\"col-xs-12 col-sm-12 col-md-6 col-lg-3\"><div class=\"padding-20 margin-top-20 bg-green-50 text-center\">\n",
       "<h3 class=\"green-800 font-size-18 text-uppercase\"><i class=\"zmdi zmdi-trending-down\"></i> Le moins cher</h3>\n",
       "<div class=\"margin-bottom-10\"><h3>RueDuCommerce</h3></div>\n",
       "<a class=\"btn btn-lg btn-block btn-success price font-size-24 go\" href=\"http://www.comparez-malin.fr/go/293263\" rel=\"nofollow\" target=\"_blank\" title=\"Voir l'offre sur RueDuCommerce\">949,99 €</a>\n",
       "<input class=\"product_categorie\" type=\"hidden\" value=\"PC portable\"/>\n",
       "<input class=\"product_name\" type=\"hidden\" value=\"HP Omen 15-ax042nf\"/>\n",
       "<input class=\"product_price\" type=\"hidden\" value=\"949.99\"/>\n",
       "<input class=\"product_offer\" type=\"hidden\" value=\"RueDuCommerce\"/>\n",
       "<input class=\"product_id\" type=\"hidden\" value=\"293263\"/>\n",
       "<div class=\"margin-top-10 font-size-12\"><span class=\"label label-warning font-size-12\">Livraison offerte</span></div>\n",
       "<div class=\"margin-top-10 font-size-14\">En stock</div>\n",
       "</div><p class=\"text-center font-size-12 margin-top-15\">Prix conseillé en décembre 2016 : 999,00€</p></div>\n",
       "</div>"
      ],
      "text/plain": [
       "<IPython.core.display.HTML object>"
      ]
     },
     "metadata": {},
     "output_type": "display_data"
    }
   ],
   "source": [
    "# Display n top ranked computer web pages\n",
    "n = 5\n",
    "for i, (index, row) in enumerate(df.iterrows()):\n",
    "    print(\"-\" * 50)\n",
    "    print(\"{} {} {}€ {}\".format(row[\"marque\"], row[\"référence\"], row[prix], row[\"url\"]))\n",
    "    #print_score(df_score.loc[index])\n",
    "    display_laptop(row[\"url\"])\n",
    "    if i >= (n-1):\n",
    "        break"
   ]
  }
 ],
 "metadata": {
  "kernelspec": {
   "display_name": "Python 3",
   "language": "python",
   "name": "python3"
  },
  "language_info": {
   "codemirror_mode": {
    "name": "ipython",
    "version": 3
   },
   "file_extension": ".py",
   "mimetype": "text/x-python",
   "name": "python",
   "nbconvert_exporter": "python",
   "pygments_lexer": "ipython3",
   "version": "3.5.2"
  },
  "widgets": {
   "state": {
    "ad68166132ee46d294c7f86136aebf69": {
     "views": [
      {
       "cell_index": 11
      }
     ]
    }
   },
   "version": "1.2.0"
  }
 },
 "nbformat": 4,
 "nbformat_minor": 1
}
